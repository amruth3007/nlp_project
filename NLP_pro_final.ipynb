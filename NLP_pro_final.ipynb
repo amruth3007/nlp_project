{
  "cells": [
    {
      "cell_type": "markdown",
      "metadata": {
        "id": "sF8t3w68Djtw"
      },
      "source": [
        "**Install Libraries**"
      ]
    },
    {
      "cell_type": "code",
      "execution_count": 1,
      "metadata": {
        "colab": {
          "base_uri": "https://localhost:8080/"
        },
        "id": "1hkhc10wNrGt",
        "outputId": "fb12bbc1-a1d7-4d32-ee07-312bd8a7a5f4",
        "vscode": {
          "languageId": "python"
        }
      },
      "outputs": [
        {
          "name": "stdout",
          "output_type": "stream",
          "text": [
            "Looking in indexes: https://pypi.org/simple, https://us-python.pkg.dev/colab-wheels/public/simple/\n",
            "Collecting transformers\n",
            "  Downloading transformers-4.25.1-py3-none-any.whl (5.8 MB)\n",
            "\u001b[K     |████████████████████████████████| 5.8 MB 14.2 MB/s \n",
            "\u001b[?25hRequirement already satisfied: requests in /usr/local/lib/python3.8/dist-packages (from transformers) (2.23.0)\n",
            "Collecting tokenizers!=0.11.3,<0.14,>=0.11.1\n",
            "  Downloading tokenizers-0.13.2-cp38-cp38-manylinux_2_17_x86_64.manylinux2014_x86_64.whl (7.6 MB)\n",
            "\u001b[K     |████████████████████████████████| 7.6 MB 53.4 MB/s \n",
            "\u001b[?25hRequirement already satisfied: packaging>=20.0 in /usr/local/lib/python3.8/dist-packages (from transformers) (21.3)\n",
            "Requirement already satisfied: pyyaml>=5.1 in /usr/local/lib/python3.8/dist-packages (from transformers) (6.0)\n",
            "Requirement already satisfied: tqdm>=4.27 in /usr/local/lib/python3.8/dist-packages (from transformers) (4.64.1)\n",
            "Requirement already satisfied: regex!=2019.12.17 in /usr/local/lib/python3.8/dist-packages (from transformers) (2022.6.2)\n",
            "Requirement already satisfied: numpy>=1.17 in /usr/local/lib/python3.8/dist-packages (from transformers) (1.21.6)\n",
            "Collecting huggingface-hub<1.0,>=0.10.0\n",
            "  Downloading huggingface_hub-0.11.1-py3-none-any.whl (182 kB)\n",
            "\u001b[K     |████████████████████████████████| 182 kB 72.9 MB/s \n",
            "\u001b[?25hRequirement already satisfied: filelock in /usr/local/lib/python3.8/dist-packages (from transformers) (3.8.0)\n",
            "Requirement already satisfied: typing-extensions>=3.7.4.3 in /usr/local/lib/python3.8/dist-packages (from huggingface-hub<1.0,>=0.10.0->transformers) (4.1.1)\n",
            "Requirement already satisfied: pyparsing!=3.0.5,>=2.0.2 in /usr/local/lib/python3.8/dist-packages (from packaging>=20.0->transformers) (3.0.9)\n",
            "Requirement already satisfied: idna<3,>=2.5 in /usr/local/lib/python3.8/dist-packages (from requests->transformers) (2.10)\n",
            "Requirement already satisfied: chardet<4,>=3.0.2 in /usr/local/lib/python3.8/dist-packages (from requests->transformers) (3.0.4)\n",
            "Requirement already satisfied: certifi>=2017.4.17 in /usr/local/lib/python3.8/dist-packages (from requests->transformers) (2022.9.24)\n",
            "Requirement already satisfied: urllib3!=1.25.0,!=1.25.1,<1.26,>=1.21.1 in /usr/local/lib/python3.8/dist-packages (from requests->transformers) (1.24.3)\n",
            "Installing collected packages: tokenizers, huggingface-hub, transformers\n",
            "Successfully installed huggingface-hub-0.11.1 tokenizers-0.13.2 transformers-4.25.1\n"
          ]
        }
      ],
      "source": [
        "!pip install transformers"
      ]
    },
    {
      "cell_type": "markdown",
      "metadata": {
        "id": "HbwfGAHSDuB8"
      },
      "source": [
        "**Import Libraries**"
      ]
    },
    {
      "cell_type": "code",
      "execution_count": 2,
      "metadata": {
        "id": "x4giRzM7NtHJ",
        "vscode": {
          "languageId": "python"
        }
      },
      "outputs": [],
      "source": [
        "import numpy as np\n",
        "import pandas as pd\n",
        "import torch\n",
        "import torch.nn as nn\n",
        "from sklearn.model_selection import train_test_split\n",
        "from sklearn.metrics import classification_report\n",
        "import transformers\n",
        "from transformers import AutoModel, BertTokenizerFast\n",
        "import re\n",
        "import unicodedata\n",
        "from torch.utils.data import TensorDataset, DataLoader, RandomSampler, SequentialSampler\n",
        "from transformers import AdamW\n",
        "device = torch.device(\"cuda\")"
      ]
    },
    {
      "cell_type": "markdown",
      "metadata": {
        "id": "kKd-Tj3hOMsZ"
      },
      "source": [
        "**Load Data**"
      ]
    },
    {
      "cell_type": "code",
      "execution_count": 3,
      "metadata": {
        "colab": {
          "base_uri": "https://localhost:8080/",
          "height": 206
        },
        "id": "cwJrQFQgN_BE",
        "outputId": "2bd14853-0241-4080-e12e-7620b59149bc",
        "vscode": {
          "languageId": "python"
        }
      },
      "outputs": [
        {
          "data": {
            "text/html": [
              "\n",
              "  <div id=\"df-8f4f1c13-9fb4-4ec7-9bea-e1cce3d63a21\">\n",
              "    <div class=\"colab-df-container\">\n",
              "      <div>\n",
              "<style scoped>\n",
              "    .dataframe tbody tr th:only-of-type {\n",
              "        vertical-align: middle;\n",
              "    }\n",
              "\n",
              "    .dataframe tbody tr th {\n",
              "        vertical-align: top;\n",
              "    }\n",
              "\n",
              "    .dataframe thead th {\n",
              "        text-align: right;\n",
              "    }\n",
              "</style>\n",
              "<table border=\"1\" class=\"dataframe\">\n",
              "  <thead>\n",
              "    <tr style=\"text-align: right;\">\n",
              "      <th></th>\n",
              "      <th>tweet</th>\n",
              "      <th>label</th>\n",
              "      <th>id</th>\n",
              "    </tr>\n",
              "  </thead>\n",
              "  <tbody>\n",
              "    <tr>\n",
              "      <th>0</th>\n",
              "      <td>India's gift of 100,000 COVID-19 vaccines arri...</td>\n",
              "      <td>0</td>\n",
              "      <td>0</td>\n",
              "    </tr>\n",
              "    <tr>\n",
              "      <th>1</th>\n",
              "      <td>As part of the ongoing nationwide vaccination ...</td>\n",
              "      <td>0</td>\n",
              "      <td>1</td>\n",
              "    </tr>\n",
              "    <tr>\n",
              "      <th>2</th>\n",
              "      <td>Pleased to receive 50,000 doses of Covid-19 va...</td>\n",
              "      <td>0</td>\n",
              "      <td>2</td>\n",
              "    </tr>\n",
              "    <tr>\n",
              "      <th>3</th>\n",
              "      <td>Four former presidents have banded together fo...</td>\n",
              "      <td>0</td>\n",
              "      <td>3</td>\n",
              "    </tr>\n",
              "    <tr>\n",
              "      <th>4</th>\n",
              "      <td>WSJ: All three of Russia's main intelligence s...</td>\n",
              "      <td>1</td>\n",
              "      <td>4</td>\n",
              "    </tr>\n",
              "  </tbody>\n",
              "</table>\n",
              "</div>\n",
              "      <button class=\"colab-df-convert\" onclick=\"convertToInteractive('df-8f4f1c13-9fb4-4ec7-9bea-e1cce3d63a21')\"\n",
              "              title=\"Convert this dataframe to an interactive table.\"\n",
              "              style=\"display:none;\">\n",
              "        \n",
              "  <svg xmlns=\"http://www.w3.org/2000/svg\" height=\"24px\"viewBox=\"0 0 24 24\"\n",
              "       width=\"24px\">\n",
              "    <path d=\"M0 0h24v24H0V0z\" fill=\"none\"/>\n",
              "    <path d=\"M18.56 5.44l.94 2.06.94-2.06 2.06-.94-2.06-.94-.94-2.06-.94 2.06-2.06.94zm-11 1L8.5 8.5l.94-2.06 2.06-.94-2.06-.94L8.5 2.5l-.94 2.06-2.06.94zm10 10l.94 2.06.94-2.06 2.06-.94-2.06-.94-.94-2.06-.94 2.06-2.06.94z\"/><path d=\"M17.41 7.96l-1.37-1.37c-.4-.4-.92-.59-1.43-.59-.52 0-1.04.2-1.43.59L10.3 9.45l-7.72 7.72c-.78.78-.78 2.05 0 2.83L4 21.41c.39.39.9.59 1.41.59.51 0 1.02-.2 1.41-.59l7.78-7.78 2.81-2.81c.8-.78.8-2.07 0-2.86zM5.41 20L4 18.59l7.72-7.72 1.47 1.35L5.41 20z\"/>\n",
              "  </svg>\n",
              "      </button>\n",
              "      \n",
              "  <style>\n",
              "    .colab-df-container {\n",
              "      display:flex;\n",
              "      flex-wrap:wrap;\n",
              "      gap: 12px;\n",
              "    }\n",
              "\n",
              "    .colab-df-convert {\n",
              "      background-color: #E8F0FE;\n",
              "      border: none;\n",
              "      border-radius: 50%;\n",
              "      cursor: pointer;\n",
              "      display: none;\n",
              "      fill: #1967D2;\n",
              "      height: 32px;\n",
              "      padding: 0 0 0 0;\n",
              "      width: 32px;\n",
              "    }\n",
              "\n",
              "    .colab-df-convert:hover {\n",
              "      background-color: #E2EBFA;\n",
              "      box-shadow: 0px 1px 2px rgba(60, 64, 67, 0.3), 0px 1px 3px 1px rgba(60, 64, 67, 0.15);\n",
              "      fill: #174EA6;\n",
              "    }\n",
              "\n",
              "    [theme=dark] .colab-df-convert {\n",
              "      background-color: #3B4455;\n",
              "      fill: #D2E3FC;\n",
              "    }\n",
              "\n",
              "    [theme=dark] .colab-df-convert:hover {\n",
              "      background-color: #434B5C;\n",
              "      box-shadow: 0px 1px 3px 1px rgba(0, 0, 0, 0.15);\n",
              "      filter: drop-shadow(0px 1px 2px rgba(0, 0, 0, 0.3));\n",
              "      fill: #FFFFFF;\n",
              "    }\n",
              "  </style>\n",
              "\n",
              "      <script>\n",
              "        const buttonEl =\n",
              "          document.querySelector('#df-8f4f1c13-9fb4-4ec7-9bea-e1cce3d63a21 button.colab-df-convert');\n",
              "        buttonEl.style.display =\n",
              "          google.colab.kernel.accessAllowed ? 'block' : 'none';\n",
              "\n",
              "        async function convertToInteractive(key) {\n",
              "          const element = document.querySelector('#df-8f4f1c13-9fb4-4ec7-9bea-e1cce3d63a21');\n",
              "          const dataTable =\n",
              "            await google.colab.kernel.invokeFunction('convertToInteractive',\n",
              "                                                     [key], {});\n",
              "          if (!dataTable) return;\n",
              "\n",
              "          const docLinkHtml = 'Like what you see? Visit the ' +\n",
              "            '<a target=\"_blank\" href=https://colab.research.google.com/notebooks/data_table.ipynb>data table notebook</a>'\n",
              "            + ' to learn more about interactive tables.';\n",
              "          element.innerHTML = '';\n",
              "          dataTable['output_type'] = 'display_data';\n",
              "          await google.colab.output.renderOutput(dataTable, element);\n",
              "          const docLink = document.createElement('div');\n",
              "          docLink.innerHTML = docLinkHtml;\n",
              "          element.appendChild(docLink);\n",
              "        }\n",
              "      </script>\n",
              "    </div>\n",
              "  </div>\n",
              "  "
            ],
            "text/plain": [
              "                                               tweet  label  id\n",
              "0  India's gift of 100,000 COVID-19 vaccines arri...      0   0\n",
              "1  As part of the ongoing nationwide vaccination ...      0   1\n",
              "2  Pleased to receive 50,000 doses of Covid-19 va...      0   2\n",
              "3  Four former presidents have banded together fo...      0   3\n",
              "4  WSJ: All three of Russia's main intelligence s...      1   4"
            ]
          },
          "execution_count": 3,
          "metadata": {},
          "output_type": "execute_result"
        }
      ],
      "source": [
        "df = pd.read_csv(\"/content/F2_Claim_Check_Worthiness_train.csv\")\n",
        "df.head()"
      ]
    },
    {
      "cell_type": "code",
      "execution_count": 4,
      "metadata": {
        "colab": {
          "base_uri": "https://localhost:8080/",
          "height": 206
        },
        "id": "nVsCwAd0rxzw",
        "outputId": "75cf70e5-701c-4baa-8740-e625abf849a2",
        "vscode": {
          "languageId": "python"
        }
      },
      "outputs": [
        {
          "data": {
            "text/html": [
              "\n",
              "  <div id=\"df-7e1c5e12-53a5-496b-954a-453f510f6a3f\">\n",
              "    <div class=\"colab-df-container\">\n",
              "      <div>\n",
              "<style scoped>\n",
              "    .dataframe tbody tr th:only-of-type {\n",
              "        vertical-align: middle;\n",
              "    }\n",
              "\n",
              "    .dataframe tbody tr th {\n",
              "        vertical-align: top;\n",
              "    }\n",
              "\n",
              "    .dataframe thead th {\n",
              "        text-align: right;\n",
              "    }\n",
              "</style>\n",
              "<table border=\"1\" class=\"dataframe\">\n",
              "  <thead>\n",
              "    <tr style=\"text-align: right;\">\n",
              "      <th></th>\n",
              "      <th>tweet</th>\n",
              "      <th>id</th>\n",
              "    </tr>\n",
              "  </thead>\n",
              "  <tbody>\n",
              "    <tr>\n",
              "      <th>0</th>\n",
              "      <td>Native American communities have been hit hard...</td>\n",
              "      <td>0</td>\n",
              "    </tr>\n",
              "    <tr>\n",
              "      <th>1</th>\n",
              "      <td>ALERT: CVS Pharmacy is now offering COVID-19 v...</td>\n",
              "      <td>1</td>\n",
              "    </tr>\n",
              "    <tr>\n",
              "      <th>2</th>\n",
              "      <td>#COVID19 vaccines are an important tool to hel...</td>\n",
              "      <td>2</td>\n",
              "    </tr>\n",
              "    <tr>\n",
              "      <th>3</th>\n",
              "      <td>Pfizer reports that IRL the vaccine is 97% eff...</td>\n",
              "      <td>3</td>\n",
              "    </tr>\n",
              "    <tr>\n",
              "      <th>4</th>\n",
              "      <td>Vaccines are complex medicines. Europeans can ...</td>\n",
              "      <td>4</td>\n",
              "    </tr>\n",
              "  </tbody>\n",
              "</table>\n",
              "</div>\n",
              "      <button class=\"colab-df-convert\" onclick=\"convertToInteractive('df-7e1c5e12-53a5-496b-954a-453f510f6a3f')\"\n",
              "              title=\"Convert this dataframe to an interactive table.\"\n",
              "              style=\"display:none;\">\n",
              "        \n",
              "  <svg xmlns=\"http://www.w3.org/2000/svg\" height=\"24px\"viewBox=\"0 0 24 24\"\n",
              "       width=\"24px\">\n",
              "    <path d=\"M0 0h24v24H0V0z\" fill=\"none\"/>\n",
              "    <path d=\"M18.56 5.44l.94 2.06.94-2.06 2.06-.94-2.06-.94-.94-2.06-.94 2.06-2.06.94zm-11 1L8.5 8.5l.94-2.06 2.06-.94-2.06-.94L8.5 2.5l-.94 2.06-2.06.94zm10 10l.94 2.06.94-2.06 2.06-.94-2.06-.94-.94-2.06-.94 2.06-2.06.94z\"/><path d=\"M17.41 7.96l-1.37-1.37c-.4-.4-.92-.59-1.43-.59-.52 0-1.04.2-1.43.59L10.3 9.45l-7.72 7.72c-.78.78-.78 2.05 0 2.83L4 21.41c.39.39.9.59 1.41.59.51 0 1.02-.2 1.41-.59l7.78-7.78 2.81-2.81c.8-.78.8-2.07 0-2.86zM5.41 20L4 18.59l7.72-7.72 1.47 1.35L5.41 20z\"/>\n",
              "  </svg>\n",
              "      </button>\n",
              "      \n",
              "  <style>\n",
              "    .colab-df-container {\n",
              "      display:flex;\n",
              "      flex-wrap:wrap;\n",
              "      gap: 12px;\n",
              "    }\n",
              "\n",
              "    .colab-df-convert {\n",
              "      background-color: #E8F0FE;\n",
              "      border: none;\n",
              "      border-radius: 50%;\n",
              "      cursor: pointer;\n",
              "      display: none;\n",
              "      fill: #1967D2;\n",
              "      height: 32px;\n",
              "      padding: 0 0 0 0;\n",
              "      width: 32px;\n",
              "    }\n",
              "\n",
              "    .colab-df-convert:hover {\n",
              "      background-color: #E2EBFA;\n",
              "      box-shadow: 0px 1px 2px rgba(60, 64, 67, 0.3), 0px 1px 3px 1px rgba(60, 64, 67, 0.15);\n",
              "      fill: #174EA6;\n",
              "    }\n",
              "\n",
              "    [theme=dark] .colab-df-convert {\n",
              "      background-color: #3B4455;\n",
              "      fill: #D2E3FC;\n",
              "    }\n",
              "\n",
              "    [theme=dark] .colab-df-convert:hover {\n",
              "      background-color: #434B5C;\n",
              "      box-shadow: 0px 1px 3px 1px rgba(0, 0, 0, 0.15);\n",
              "      filter: drop-shadow(0px 1px 2px rgba(0, 0, 0, 0.3));\n",
              "      fill: #FFFFFF;\n",
              "    }\n",
              "  </style>\n",
              "\n",
              "      <script>\n",
              "        const buttonEl =\n",
              "          document.querySelector('#df-7e1c5e12-53a5-496b-954a-453f510f6a3f button.colab-df-convert');\n",
              "        buttonEl.style.display =\n",
              "          google.colab.kernel.accessAllowed ? 'block' : 'none';\n",
              "\n",
              "        async function convertToInteractive(key) {\n",
              "          const element = document.querySelector('#df-7e1c5e12-53a5-496b-954a-453f510f6a3f');\n",
              "          const dataTable =\n",
              "            await google.colab.kernel.invokeFunction('convertToInteractive',\n",
              "                                                     [key], {});\n",
              "          if (!dataTable) return;\n",
              "\n",
              "          const docLinkHtml = 'Like what you see? Visit the ' +\n",
              "            '<a target=\"_blank\" href=https://colab.research.google.com/notebooks/data_table.ipynb>data table notebook</a>'\n",
              "            + ' to learn more about interactive tables.';\n",
              "          element.innerHTML = '';\n",
              "          dataTable['output_type'] = 'display_data';\n",
              "          await google.colab.output.renderOutput(dataTable, element);\n",
              "          const docLink = document.createElement('div');\n",
              "          docLink.innerHTML = docLinkHtml;\n",
              "          element.appendChild(docLink);\n",
              "        }\n",
              "      </script>\n",
              "    </div>\n",
              "  </div>\n",
              "  "
            ],
            "text/plain": [
              "                                               tweet  id\n",
              "0  Native American communities have been hit hard...   0\n",
              "1  ALERT: CVS Pharmacy is now offering COVID-19 v...   1\n",
              "2  #COVID19 vaccines are an important tool to hel...   2\n",
              "3  Pfizer reports that IRL the vaccine is 97% eff...   3\n",
              "4  Vaccines are complex medicines. Europeans can ...   4"
            ]
          },
          "execution_count": 4,
          "metadata": {},
          "output_type": "execute_result"
        }
      ],
      "source": [
        "test = pd.read_csv(\"/content/F2_Claim_Check_Worthiness_test.csv\")\n",
        "test.head()"
      ]
    },
    {
      "cell_type": "code",
      "execution_count": 5,
      "metadata": {
        "colab": {
          "base_uri": "https://localhost:8080/"
        },
        "id": "fzPPOrVQWiW5",
        "outputId": "f2da4869-83df-47b2-95dc-d3586488fa00",
        "vscode": {
          "languageId": "python"
        }
      },
      "outputs": [
        {
          "data": {
            "text/plain": [
              "(2122, 3)"
            ]
          },
          "execution_count": 5,
          "metadata": {},
          "output_type": "execute_result"
        }
      ],
      "source": [
        "df.shape"
      ]
    },
    {
      "cell_type": "code",
      "execution_count": 6,
      "metadata": {
        "colab": {
          "base_uri": "https://localhost:8080/"
        },
        "id": "676DPU1BOPdp",
        "outputId": "96ad5958-7787-405f-a844-a32e211a1fd3",
        "vscode": {
          "languageId": "python"
        }
      },
      "outputs": [
        {
          "data": {
            "text/plain": [
              "0    0.78935\n",
              "1    0.21065\n",
              "Name: label, dtype: float64"
            ]
          },
          "execution_count": 6,
          "metadata": {},
          "output_type": "execute_result"
        }
      ],
      "source": [
        "df['label'].value_counts(normalize = True)"
      ]
    },
    {
      "cell_type": "code",
      "execution_count": 7,
      "metadata": {
        "id": "T7e-0xGX2VZM",
        "vscode": {
          "languageId": "python"
        }
      },
      "outputs": [],
      "source": [
        "def clean_text(text):\n",
        "  text = re.sub('\\S*@\\S*\\s?', '', text)\n",
        "  text = re.sub('\\s+', ' ', text) \n",
        "  text = re.sub(\"\\'\", '', text)\n",
        "  text = re.sub('[^a-zA-Z]', ' ', text)\n",
        "  text = re.sub('\\s+[a-zA-Z]\\s+^I', ' ', text)\n",
        "  text = unicodedata.normalize('NFKD', text).encode('ascii', 'ignore').decode('utf-8', 'ignore')\n",
        "  text = re.sub(r'\\s+', ' ', text)\n",
        "  text = re.sub(r'^\\s*|\\s\\s*', ' ', text).strip()\n",
        "  text = text.lower()\n",
        "  return text"
      ]
    },
    {
      "cell_type": "code",
      "execution_count": 8,
      "metadata": {
        "id": "QC-flO0L2cL1",
        "vscode": {
          "languageId": "python"
        }
      },
      "outputs": [],
      "source": [
        "df['tweet'] = df['tweet'].apply(lambda x : clean_text(x)).values.tolist()\n",
        "test['tweet'] = test['tweet'].apply(lambda x : clean_text(x)).values.tolist()"
      ]
    },
    {
      "cell_type": "markdown",
      "metadata": {
        "id": "MKfWnApvOoE7"
      },
      "source": [
        "**split the data**"
      ]
    },
    {
      "cell_type": "code",
      "execution_count": 9,
      "metadata": {
        "id": "mfhSPF5jOWb7",
        "vscode": {
          "languageId": "python"
        }
      },
      "outputs": [],
      "source": [
        "train_text, val_text, train_labels, val_labels = train_test_split(df['tweet'], df['label'], random_state=197,test_size=0.3,stratify=df['label'])"
      ]
    },
    {
      "cell_type": "code",
      "execution_count": 10,
      "metadata": {
        "id": "v4hjQyHIs8zU",
        "vscode": {
          "languageId": "python"
        }
      },
      "outputs": [],
      "source": [
        "test_text=test['tweet']"
      ]
    },
    {
      "cell_type": "code",
      "execution_count": 11,
      "metadata": {
        "colab": {
          "base_uri": "https://localhost:8080/"
        },
        "id": "Fsi8oXxCs6D1",
        "outputId": "73241e2b-0f08-4f87-da5b-cabd21947189",
        "vscode": {
          "languageId": "python"
        }
      },
      "outputs": [
        {
          "data": {
            "text/plain": [
              "0      native american communities have been hit hard...\n",
              "1      alert cvs pharmacy is now offering covid vacci...\n",
              "2      covid vaccines are an important tool to help s...\n",
              "3      pfizer reports that irl the vaccine is effecti...\n",
              "4      vaccines are complex medicines europeans can t...\n",
              "                             ...                        \n",
              "190    today university of pittsburgh school of medic...\n",
              "191    uk coronavirus vaccine could be ready by septe...\n",
              "192    top nih official anthony fauci says coronaviru...\n",
              "193    my flintstones gummies from years ago fighting...\n",
              "194    covid something we all need to be aware and al...\n",
              "Name: tweet, Length: 195, dtype: object"
            ]
          },
          "execution_count": 11,
          "metadata": {},
          "output_type": "execute_result"
        }
      ],
      "source": [
        "test_text"
      ]
    },
    {
      "cell_type": "code",
      "execution_count": 12,
      "metadata": {
        "colab": {
          "base_uri": "https://localhost:8080/"
        },
        "id": "yKwbpeN_PMiu",
        "outputId": "eb501115-65d1-4783-a079-c5f16712202e",
        "vscode": {
          "languageId": "python"
        }
      },
      "outputs": [
        {
          "name": "stdout",
          "output_type": "stream",
          "text": [
            "Number of tweets: 2122\n",
            "Max length of the tweet: 58\n",
            "Mean length of the tweet: 38.13336475023563\n"
          ]
        }
      ],
      "source": [
        "tweets = [text for text in df.tweet]\n",
        "max_len = 0\n",
        "tweets_len = []\n",
        "for tweet in tweets:\n",
        "    tweets_len.append(len(tweet.split()))\n",
        "    max_len = max(len(tweet.split()), max_len)\n",
        "\n",
        "print('Number of tweets:', len(tweets))\n",
        "print('Max length of the tweet:', max_len)\n",
        "print('Mean length of the tweet:', np.mean(tweets_len))"
      ]
    },
    {
      "cell_type": "code",
      "execution_count": 13,
      "metadata": {
        "colab": {
          "base_uri": "https://localhost:8080/",
          "height": 311
        },
        "id": "2NHAxaLbzeH5",
        "outputId": "cd90fec2-a620-4c82-9dee-1d1b95428014",
        "vscode": {
          "languageId": "python"
        }
      },
      "outputs": [
        {
          "data": {
            "image/png": "[encoded data removed]",
            "text/plain": [
              "<Figure size 1440x360 with 1 Axes>"
            ]
          },
          "metadata": {
            "needs_background": "light"
          },
          "output_type": "display_data"
        }
      ],
      "source": [
        "import seaborn as sns\n",
        "import matplotlib.pyplot as plt\n",
        "plt.figure(figsize=(20,5))\n",
        "g = sns.countplot(x=tweets_len)\n",
        "g.set_xticklabels(g.get_xticklabels(), rotation=50)\n",
        "plt.show()"
      ]
    },
    {
      "cell_type": "markdown",
      "metadata": {
        "id": "n7hsdLoCO7uB"
      },
      "source": [
        "**Import BERT Tokenizer and Model**"
      ]
    },
    {
      "cell_type": "code",
      "execution_count": 14,
      "metadata": {
        "id": "6cO-YCY6smr3",
        "vscode": {
          "languageId": "python"
        }
      },
      "outputs": [],
      "source": [
        "from transformers import AutoModel, AutoTokenizer "
      ]
    },
    {
      "cell_type": "code",
      "execution_count": 15,
      "metadata": {
        "id": "nClzruDdWtU5",
        "vscode": {
          "languageId": "python"
        }
      },
      "outputs": [],
      "source": [
        "# bert = AutoModel.from_pretrained('roberta-base',return_dict=False)     \n",
        "# tokenizer = AutoTokenizer.from_pretrained(\"roberta-base\")"
      ]
    },
    {
      "cell_type": "code",
      "execution_count": 16,
      "metadata": {
        "colab": {
          "base_uri": "https://localhost:8080/",
          "height": 252,
          "referenced_widgets": [
            "5f7e9d953bf546d8865af7b408634675",
            "6dfee91ff9bc40859d9c24eae5e88d4c",
            "3d968d3825df4ddf93b20d9828d1ace1",
            "21f35f6ff07e4df5a2f40398575b869f",
            "ca0f1d700a4a430e8de58bc2d99d44ed",
            "13285124c3b04cf2af5e18c7b810a5e9",
            "f864e7fd20ea426881089b4daba41de6",
            "b7700ec0f9e94294b52475538f0f8c06",
            "c17849e12e3a47daab4a92e97b7aa0a9",
            "5241d240fcc042ffb9051624850f3c5b",
            "3f43adc6debc4d7d99db27bd53713c6b",
            "25dfcc27c923441897a7969cf9df0927",
            "2ac416c91bb240e3b78f41586cf25815",
            "7c27dba22cc149daaf4e8ee9fbc82891",
            "1042210176f345168f94f1c590f1863b",
            "6c53a4156f824d80a133af24f3252a28",
            "5565814035894378ab5c8fb265ddd39e",
            "4c206a1d3431486e9c6863d4e75b9b8f",
            "29bdd97f0a1944959782aed3331a7c32",
            "34818c604a2b4b18a34c3d0b47eea339",
            "a992c11c7a214433ab41ac4febb495b3",
            "1365c8ed671740759cee9ea5c81d5e70",
            "0d8035d5f43f4a0eb8198eb6c166ad1e",
            "7656b5072ad8418fae35d4c861b2b494",
            "bca43d17abfc424fa43f7ce5cd952e01",
            "f6caa19d4c5b42dc9b81b28aa51ed3c5",
            "7272c97e8ee84a1e954ded67528a8bc4",
            "dc5ff539fbfd4e7cbd68110a2764f6e7",
            "4608d9436fc344c9ac0cf878a66d4b6a",
            "77269e1032864252a8507f4977269fb8",
            "383ea9f98bbe4c2084d8c9b2f8bd26b2",
            "4887ceb77f6b4cd09d715c637f7073cd",
            "ce2292ce20914fca8feaf5f0a49e547c",
            "929e474782ec47bb888b4a56af16ea67",
            "d8da2d5f7d714b2ebcd0f31c72838bb3",
            "b0c33106d8714fd6ba6bc4b571402cd1",
            "450e0a5f1286446e9c27650ccbd4c577",
            "c71f88b7c1284f27ac0bfc8be90bc422",
            "31f8456676fc48948739e3c7647aa3c3",
            "9523e299ee8544a288f1a68624f7244f",
            "4ba75f7c626a46538227ae28dd6ac5ff",
            "9ff5dc36fd0d44a5a7b1988af41d80ed",
            "f1c1635bd7b44c61bf84aebbdd6b8f70",
            "85f602ac845344a997defe84929c1fc2"
          ]
        },
        "id": "O4EAju4hWyR1",
        "outputId": "a9e8016f-bb68-4405-b4be-9ce945c6283b",
        "vscode": {
          "languageId": "python"
        }
      },
      "outputs": [
        {
          "data": {
            "application/vnd.jupyter.widget-view+json": {
              "model_id": "5f7e9d953bf546d8865af7b408634675",
              "version_major": 2,
              "version_minor": 0
            },
            "text/plain": [
              "Downloading:   0%|          | 0.00/558 [00:00<?, ?B/s]"
            ]
          },
          "metadata": {},
          "output_type": "display_data"
        },
        {
          "data": {
            "application/vnd.jupyter.widget-view+json": {
              "model_id": "25dfcc27c923441897a7969cf9df0927",
              "version_major": 2,
              "version_minor": 0
            },
            "text/plain": [
              "Downloading:   0%|          | 0.00/543M [00:00<?, ?B/s]"
            ]
          },
          "metadata": {},
          "output_type": "display_data"
        },
        {
          "name": "stderr",
          "output_type": "stream",
          "text": [
            "Some weights of the model checkpoint at vinai/bertweet-covid19-base-uncased were not used when initializing RobertaModel: ['lm_head.decoder.weight', 'lm_head.bias', 'lm_head.layer_norm.bias', 'lm_head.layer_norm.weight', 'lm_head.dense.bias', 'lm_head.decoder.bias', 'lm_head.dense.weight']\n",
            "- This IS expected if you are initializing RobertaModel from the checkpoint of a model trained on another task or with another architecture (e.g. initializing a BertForSequenceClassification model from a BertForPreTraining model).\n",
            "- This IS NOT expected if you are initializing RobertaModel from the checkpoint of a model that you expect to be exactly identical (initializing a BertForSequenceClassification model from a BertForSequenceClassification model).\n"
          ]
        },
        {
          "data": {
            "application/vnd.jupyter.widget-view+json": {
              "model_id": "0d8035d5f43f4a0eb8198eb6c166ad1e",
              "version_major": 2,
              "version_minor": 0
            },
            "text/plain": [
              "Downloading:   0%|          | 0.00/843k [00:00<?, ?B/s]"
            ]
          },
          "metadata": {},
          "output_type": "display_data"
        },
        {
          "data": {
            "application/vnd.jupyter.widget-view+json": {
              "model_id": "929e474782ec47bb888b4a56af16ea67",
              "version_major": 2,
              "version_minor": 0
            },
            "text/plain": [
              "Downloading:   0%|          | 0.00/1.08M [00:00<?, ?B/s]"
            ]
          },
          "metadata": {},
          "output_type": "display_data"
        },
        {
          "name": "stderr",
          "output_type": "stream",
          "text": [
            "emoji is not installed, thus not converting emoticons or emojis into text. Install emoji: pip3 install emoji==0.6.0\n",
            "Special tokens have been added in the vocabulary, make sure the associated word embeddings are fine-tuned or trained.\n"
          ]
        }
      ],
      "source": [
        "bert = AutoModel.from_pretrained('vinai/bertweet-covid19-base-uncased',return_dict=False)     \n",
        "tokenizer = AutoTokenizer.from_pretrained(\"vinai/bertweet-covid19-base-uncased\")"
      ]
    },
    {
      "cell_type": "code",
      "execution_count": 17,
      "metadata": {
        "id": "S1kY3gZjO2RE",
        "vscode": {
          "languageId": "python"
        }
      },
      "outputs": [],
      "source": [
        "# bert = AutoModel.from_pretrained('vinai/bertweet-large',return_dict=False)     \n",
        "# tokenizer = AutoTokenizer.from_pretrained(\"vinai/bertweet-large\")"
      ]
    },
    {
      "cell_type": "markdown",
      "metadata": {
        "id": "8wIYaWI_Prg8"
      },
      "source": [
        "**Tokenization**"
      ]
    },
    {
      "cell_type": "code",
      "execution_count": 48,
      "metadata": {
        "id": "OXcswEIRPvGe",
        "vscode": {
          "languageId": "python"
        }
      },
      "outputs": [],
      "source": [
        "max_seq_len = 55"
      ]
    },
    {
      "cell_type": "code",
      "execution_count": 49,
      "metadata": {
        "id": "tk5S7DWaP2t6",
        "vscode": {
          "languageId": "python"
        }
      },
      "outputs": [],
      "source": [
        "# tokenize and encode sequences \n",
        "tokens_train = tokenizer.batch_encode_plus(\n",
        "    train_text.tolist(),\n",
        "    max_length = max_seq_len,\n",
        "    pad_to_max_length=True,\n",
        "    truncation=True,\n",
        "    return_token_type_ids=False\n",
        ")\n",
        "\n",
        "tokens_val = tokenizer.batch_encode_plus(\n",
        "    val_text.tolist(),\n",
        "    max_length = max_seq_len,\n",
        "    pad_to_max_length=True,\n",
        "    truncation=True,\n",
        "    return_token_type_ids=False\n",
        ")\n",
        "\n",
        "tokens_test = tokenizer.batch_encode_plus(\n",
        "    test_text.tolist(),\n",
        "    max_length = max_seq_len,\n",
        "    pad_to_max_length=True,\n",
        "    truncation=True,\n",
        "    return_token_type_ids=False\n",
        ")"
      ]
    },
    {
      "cell_type": "markdown",
      "metadata": {
        "id": "Wsm8bkRZQTw9"
      },
      "source": [
        "**Convert to Tensors**"
      ]
    },
    {
      "cell_type": "code",
      "execution_count": 50,
      "metadata": {
        "id": "QR-lXwmzQPd6",
        "vscode": {
          "languageId": "python"
        }
      },
      "outputs": [],
      "source": [
        "train_seq = torch.tensor(tokens_train['input_ids'])\n",
        "train_mask = torch.tensor(tokens_train['attention_mask'])\n",
        "train_y = torch.tensor(train_labels.tolist())\n",
        "\n",
        "val_seq = torch.tensor(tokens_val['input_ids'])\n",
        "val_mask = torch.tensor(tokens_val['attention_mask'])\n",
        "val_y = torch.tensor(val_labels.tolist())\n",
        "\n",
        "test_seq = torch.tensor(tokens_test['input_ids'])\n",
        "test_mask = torch.tensor(tokens_test['attention_mask'])\n"
      ]
    },
    {
      "cell_type": "markdown",
      "metadata": {
        "id": "Ov1cOBlcRLuk"
      },
      "source": [
        "**DataLoaders**"
      ]
    },
    {
      "cell_type": "code",
      "execution_count": 51,
      "metadata": {
        "id": "qUy9JKFYQYLp",
        "vscode": {
          "languageId": "python"
        }
      },
      "outputs": [],
      "source": [
        "batch_size = 16\n",
        "\n",
        "train_data = TensorDataset(train_seq, train_mask, train_y)\n",
        "train_sampler = RandomSampler(train_data)\n",
        "train_dataloader = DataLoader(train_data, sampler=train_sampler, batch_size=batch_size)\n",
        "val_data = TensorDataset(val_seq, val_mask, val_y)\n",
        "val_sampler = SequentialSampler(val_data)\n",
        "val_dataloader = DataLoader(val_data, sampler = val_sampler, batch_size=batch_size)"
      ]
    },
    {
      "cell_type": "markdown",
      "metadata": {
        "id": "K2HZc5ZYRV28"
      },
      "source": [
        "**Freezing BERT Layers**"
      ]
    },
    {
      "cell_type": "code",
      "execution_count": 52,
      "metadata": {
        "colab": {
          "base_uri": "https://localhost:8080/"
        },
        "id": "wS7Nj68g6uMb",
        "outputId": "86a9d2ec-500c-4879-d028-dc7c5b1fcdd8",
        "vscode": {
          "languageId": "python"
        }
      },
      "outputs": [
        {
          "name": "stdout",
          "output_type": "stream",
          "text": [
            "199\n"
          ]
        }
      ],
      "source": [
        "print(len(list((bert.named_parameters()))))"
      ]
    },
    {
      "cell_type": "code",
      "execution_count": 53,
      "metadata": {
        "id": "qoavJVYq6p7N",
        "vscode": {
          "languageId": "python"
        }
      },
      "outputs": [],
      "source": [
        "for name, param in list(bert.named_parameters())[:198]: \n",
        "  # print(name)\n",
        "  param.requires_grad = False"
      ]
    },
    {
      "cell_type": "markdown",
      "metadata": {
        "id": "s7ahGBUWRi3X"
      },
      "source": [
        "**Model Architecture**"
      ]
    },
    {
      "cell_type": "code",
      "execution_count": 54,
      "metadata": {
        "id": "b3iEtGyYRd0A",
        "vscode": {
          "languageId": "python"
        }
      },
      "outputs": [],
      "source": [
        "class BERT_fineTune(nn.Module):\n",
        "\n",
        "    def __init__(self, bert):\n",
        "      \n",
        "      super(BERT_fineTune, self).__init__()\n",
        "      self.bert = bert \n",
        "      self.relu =  nn.ReLU()\n",
        "      # dropout layers\n",
        "      self.dropout1 = nn.Dropout(0.1)\n",
        "      self.dropout2 = nn.Dropout(0.2)\n",
        "      #Linear Layers\n",
        "      self.fc1 = nn.Linear(768,512)\n",
        "      self.fc2 = nn.Linear(512,128)\n",
        "      self.fc3 = nn.Linear(128,2)\n",
        "      # self.fc4 = nn.Linear(128,64)\n",
        "      # self.fc5 = nn.Linear(64,16)\n",
        "      # self.fc6 = nn.Linear(16,2)\n",
        "      self.softmax = nn.LogSoftmax(dim=1)\n",
        "\n",
        "    def forward(self, sent_id, mask):\n",
        "      _, cls_hs = self.bert(sent_id, attention_mask=mask)    \n",
        "      x = self.fc1(cls_hs)\n",
        "      x = self.relu(x)\n",
        "      x = self.dropout1(x)\n",
        "      x = self.fc2(x)\n",
        "      x = self.relu(x)\n",
        "      x = self.dropout1(x)\n",
        "      x = self.fc3(x)\n",
        "      x = self.softmax(x)\n",
        "      return x"
      ]
    },
    {
      "cell_type": "code",
      "execution_count": 55,
      "metadata": {
        "id": "cBAJJVuJRliv",
        "vscode": {
          "languageId": "python"
        }
      },
      "outputs": [],
      "source": [
        "model = BERT_fineTune(bert)\n",
        "model = model.to(device)"
      ]
    },
    {
      "cell_type": "code",
      "execution_count": 56,
      "metadata": {
        "id": "izY5xH5eR7Ur",
        "vscode": {
          "languageId": "python"
        }
      },
      "outputs": [],
      "source": [
        "from sklearn.utils.class_weight import compute_class_weight\n",
        "class_weights = compute_class_weight(class_weight = \"balanced\",classes = np.unique(train_labels),y = train_labels)\n",
        "class_weights_dict = dict(zip(np.unique(train_labels), class_weights))\n",
        "class_wts=class_weights"
      ]
    },
    {
      "cell_type": "code",
      "execution_count": 57,
      "metadata": {
        "id": "r1WvfY2vSGKi",
        "vscode": {
          "languageId": "python"
        }
      },
      "outputs": [],
      "source": [
        "optimizer = AdamW(model.parameters(), lr = 5e-5)\n",
        "weights= torch.tensor(class_wts,dtype=torch.float)\n",
        "weights = weights.to(device)\n",
        "cross_entropy  = nn.NLLLoss(weight=weights) \n",
        "epochs = 10"
      ]
    },
    {
      "cell_type": "code",
      "execution_count": 58,
      "metadata": {
        "id": "rskLk8R_SahS",
        "vscode": {
          "languageId": "python"
        }
      },
      "outputs": [],
      "source": [
        "def train(): \n",
        "  model.train()\n",
        "  total_loss, total_accuracy = 0.0, 0.0\n",
        "  total_preds=[]\n",
        "  for step,batch in enumerate(train_dataloader):    \n",
        "    if step % 20 == 0 and not step == 0:   # progress update\n",
        "      print('  Batch {:>5,}  of  {:>5,}'.format(step, len(train_dataloader)))\n",
        "    batch = [r.to(device) for r in batch]\n",
        "    sent_id, mask, labels = batch   \n",
        "    model.zero_grad()    # clear previous calculated gradients     \n",
        "    preds = model(sent_id, mask)\n",
        "    loss = cross_entropy(preds, labels)\n",
        "    total_loss = total_loss + loss.item()\n",
        "    loss.backward()\n",
        "    torch.nn.utils.clip_grad_norm_(model.parameters(), 1.0)\n",
        "    optimizer.step()\n",
        "    preds=preds.detach().cpu().numpy()\n",
        "    total_preds.append(preds)\n",
        "\n",
        "  avg_loss = total_loss / len(train_dataloader)\n",
        "  total_preds = np.concatenate(total_preds, axis=0)\n",
        "  return avg_loss, total_preds"
      ]
    },
    {
      "cell_type": "code",
      "execution_count": 59,
      "metadata": {
        "id": "yGXovFDlSxB5",
        "vscode": {
          "languageId": "python"
        }
      },
      "outputs": [],
      "source": [
        "def evaluate(): \n",
        "  # print(\"Evaluating...\")\n",
        "  model.eval()\n",
        "  total_loss, total_accuracy = 0.0, 0.0\n",
        "  total_preds = []\n",
        "  for step,batch in enumerate(val_dataloader):\n",
        "    if step % 20 == 0 and not step == 0:  # Progress update\n",
        "      print('  Batch {:>5,}  of  {:>5,}'.format(step, len(val_dataloader)))\n",
        "    batch = [t.to(device) for t in batch]\n",
        "    sent_id, mask, labels = batch\n",
        "    with torch.no_grad():\n",
        "      preds = model(sent_id, mask)\n",
        "      loss = cross_entropy(preds,labels)\n",
        "      total_loss = total_loss + loss.item()\n",
        "      preds = preds.detach().cpu().numpy()\n",
        "      total_preds.append(preds)\n",
        "  avg_loss = total_loss / len(val_dataloader) \n",
        "  total_preds  = np.concatenate(total_preds, axis=0)\n",
        "  return avg_loss, total_preds"
      ]
    },
    {
      "cell_type": "markdown",
      "metadata": {
        "id": "9KZEgxRRTLXG"
      },
      "source": [
        "**Model Training**"
      ]
    },
    {
      "cell_type": "code",
      "execution_count": 60,
      "metadata": {
        "colab": {
          "base_uri": "https://localhost:8080/"
        },
        "id": "k1USGTntS3TS",
        "outputId": "35d13978-95a1-4d8f-a6f6-db3b42bbbcd0",
        "vscode": {
          "languageId": "python"
        }
      },
      "outputs": [
        {
          "name": "stdout",
          "output_type": "stream",
          "text": [
            "\n",
            " Epoch 1 / 10\n",
            "  Batch    20  of     93\n",
            "  Batch    40  of     93\n",
            "  Batch    60  of     93\n",
            "  Batch    80  of     93\n",
            "  Batch    20  of     40\n",
            "\n",
            "Training Loss: 0.692\n",
            "Validation Loss: 0.688\n",
            "\n",
            " Epoch 2 / 10\n",
            "  Batch    20  of     93\n",
            "  Batch    40  of     93\n",
            "  Batch    60  of     93\n",
            "  Batch    80  of     93\n",
            "  Batch    20  of     40\n",
            "\n",
            "Training Loss: 0.689\n",
            "Validation Loss: 0.683\n",
            "\n",
            " Epoch 3 / 10\n",
            "  Batch    20  of     93\n",
            "  Batch    40  of     93\n",
            "  Batch    60  of     93\n",
            "  Batch    80  of     93\n",
            "  Batch    20  of     40\n",
            "\n",
            "Training Loss: 0.684\n",
            "Validation Loss: 0.677\n",
            "\n",
            " Epoch 4 / 10\n",
            "  Batch    20  of     93\n",
            "  Batch    40  of     93\n",
            "  Batch    60  of     93\n",
            "  Batch    80  of     93\n",
            "  Batch    20  of     40\n",
            "\n",
            "Training Loss: 0.673\n",
            "Validation Loss: 0.664\n",
            "\n",
            " Epoch 5 / 10\n",
            "  Batch    20  of     93\n",
            "  Batch    40  of     93\n",
            "  Batch    60  of     93\n",
            "  Batch    80  of     93\n",
            "  Batch    20  of     40\n",
            "\n",
            "Training Loss: 0.662\n",
            "Validation Loss: 0.649\n",
            "\n",
            " Epoch 6 / 10\n",
            "  Batch    20  of     93\n",
            "  Batch    40  of     93\n",
            "  Batch    60  of     93\n",
            "  Batch    80  of     93\n",
            "  Batch    20  of     40\n",
            "\n",
            "Training Loss: 0.643\n",
            "Validation Loss: 0.626\n",
            "\n",
            " Epoch 7 / 10\n",
            "  Batch    20  of     93\n",
            "  Batch    40  of     93\n",
            "  Batch    60  of     93\n",
            "  Batch    80  of     93\n",
            "  Batch    20  of     40\n",
            "\n",
            "Training Loss: 0.624\n",
            "Validation Loss: 0.600\n",
            "\n",
            " Epoch 8 / 10\n",
            "  Batch    20  of     93\n",
            "  Batch    40  of     93\n",
            "  Batch    60  of     93\n",
            "  Batch    80  of     93\n",
            "  Batch    20  of     40\n",
            "\n",
            "Training Loss: 0.599\n",
            "Validation Loss: 0.580\n",
            "\n",
            " Epoch 9 / 10\n",
            "  Batch    20  of     93\n",
            "  Batch    40  of     93\n",
            "  Batch    60  of     93\n",
            "  Batch    80  of     93\n",
            "  Batch    20  of     40\n",
            "\n",
            "Training Loss: 0.587\n",
            "Validation Loss: 0.566\n",
            "\n",
            " Epoch 10 / 10\n",
            "  Batch    20  of     93\n",
            "  Batch    40  of     93\n",
            "  Batch    60  of     93\n",
            "  Batch    80  of     93\n",
            "  Batch    20  of     40\n",
            "\n",
            "Training Loss: 0.561\n",
            "Validation Loss: 0.540\n"
          ]
        }
      ],
      "source": [
        "best_valid_loss = float('inf')\n",
        "train_losses=[]\n",
        "valid_losses=[]\n",
        "for epoch in range(epochs):    \n",
        "    print('\\n Epoch {:} / {:}'.format(epoch + 1, epochs))\n",
        "    train_loss, _ = train()\n",
        "    valid_loss, _ = evaluate()   \n",
        "    if valid_loss < best_valid_loss:  #save the best model\n",
        "        best_valid_loss = valid_loss\n",
        "        torch.save(model.state_dict(),'saved_weights.pt')\n",
        "    train_losses.append(train_loss)\n",
        "    valid_losses.append(valid_loss)   \n",
        "    print(f'\\nTraining Loss: {train_loss:.3f}')\n",
        "    print(f'Validation Loss: {valid_loss:.3f}')"
      ]
    },
    {
      "cell_type": "code",
      "execution_count": 61,
      "metadata": {
        "colab": {
          "base_uri": "https://localhost:8080/",
          "height": 279
        },
        "id": "UFbX4cWHMUtA",
        "outputId": "fccce54b-59f8-4eab-c9ff-5c9eaf5b8495",
        "vscode": {
          "languageId": "python"
        }
      },
      "outputs": [
        {
          "data": {
            "image/png": "[encoded data removed]",
            "text/plain": [
              "<Figure size 432x288 with 1 Axes>"
            ]
          },
          "metadata": {
            "needs_background": "light"
          },
          "output_type": "display_data"
        }
      ],
      "source": [
        "plt.plot(range(len(train_losses)), train_losses, label='Train')\n",
        "plt.plot(range(len(valid_losses)), valid_losses, label='Valid')\n",
        "plt.xlabel('Epoch')\n",
        "plt.ylabel('Loss')\n",
        "plt.legend()\n",
        "plt.show() "
      ]
    },
    {
      "cell_type": "code",
      "execution_count": 62,
      "metadata": {
        "colab": {
          "base_uri": "https://localhost:8080/"
        },
        "id": "OacxUyizS8d1",
        "outputId": "78f4feb5-08d8-4c1a-ffff-06a4e6c4c8e1",
        "vscode": {
          "languageId": "python"
        }
      },
      "outputs": [
        {
          "data": {
            "text/plain": [
              "<All keys matched successfully>"
            ]
          },
          "execution_count": 62,
          "metadata": {},
          "output_type": "execute_result"
        }
      ],
      "source": [
        "path = '/content/saved_weights.pt' \n",
        "model.load_state_dict(torch.load(path))"
      ]
    },
    {
      "cell_type": "markdown",
      "metadata": {
        "id": "x4SVftkkTZXA"
      },
      "source": [
        "**Predictions for Test Data**"
      ]
    },
    {
      "cell_type": "code",
      "execution_count": 63,
      "metadata": {
        "id": "NZl0SZmFTRQA",
        "vscode": {
          "languageId": "python"
        }
      },
      "outputs": [],
      "source": [
        "with torch.no_grad():\n",
        "  preds = model(test_seq.to(device), test_mask.to(device))\n",
        "  preds = preds.detach().cpu().numpy()\n",
        "prediction = np.argmax(preds, axis = 1)"
      ]
    },
    {
      "cell_type": "code",
      "execution_count": 64,
      "metadata": {
        "colab": {
          "base_uri": "https://localhost:8080/"
        },
        "id": "cjso8wnrPYs6",
        "outputId": "6a80c68b-9ef3-454e-cf27-7d2e5dbb9099",
        "vscode": {
          "languageId": "python"
        }
      },
      "outputs": [
        {
          "data": {
            "text/plain": [
              "array([[-0.22718258, -1.5934432 ],\n",
              "       [-0.21904485, -1.6260029 ],\n",
              "       [-0.24998794, -1.5087341 ],\n",
              "       [-0.37253308, -1.1679204 ],\n",
              "       [-0.3502401 , -1.2191504 ],\n",
              "       [-0.32479054, -1.2825785 ],\n",
              "       [-0.94957685, -0.48923486],\n",
              "       [-0.22213759, -1.6134721 ],\n",
              "       [-0.45604992, -1.0045269 ],\n",
              "       [-0.2959202 , -1.3619797 ],\n",
              "       [-0.5448345 , -0.8673525 ],\n",
              "       [-0.36453694, -1.1858649 ],\n",
              "       [-0.51544964, -0.9093946 ],\n",
              "       [-0.5501932 , -0.86000115],\n",
              "       [-0.52449405, -0.896132  ],\n",
              "       [-0.2788707 , -1.4132043 ],\n",
              "       [-0.11400625, -2.2279637 ],\n",
              "       [-0.11078811, -2.255018  ],\n",
              "       [-0.34596944, -1.2294073 ],\n",
              "       [-0.9163083 , -0.51081395],\n",
              "       [-0.32026857, -1.2944596 ],\n",
              "       [-0.19489922, -1.73114   ],\n",
              "       [-0.35203007, -1.2148955 ],\n",
              "       [-0.18845534, -1.7616425 ],\n",
              "       [-0.5488959 , -0.8617722 ],\n",
              "       [-0.6119285 , -0.78155   ],\n",
              "       [-0.61883473, -0.77342856],\n",
              "       [-0.30996713, -1.3222725 ],\n",
              "       [-0.3768708 , -1.1583774 ],\n",
              "       [-0.77415234, -0.61821496],\n",
              "       [-0.27430364, -1.4275382 ],\n",
              "       [-0.4030865 , -1.1033865 ],\n",
              "       [-0.49221438, -0.94487363],\n",
              "       [-0.18957998, -1.7562373 ],\n",
              "       [-0.2456637 , -1.5241101 ],\n",
              "       [-1.0019075 , -0.4575667 ],\n",
              "       [-0.92380846, -0.50584495],\n",
              "       [-0.30979162, -1.3227556 ],\n",
              "       [-0.30905092, -1.3247981 ],\n",
              "       [-0.14239132, -2.0195274 ],\n",
              "       [-0.4183437 , -1.0733423 ],\n",
              "       [-0.21794493, -1.6305071 ],\n",
              "       [-0.32410464, -1.284368  ],\n",
              "       [-0.41175717, -1.0861456 ],\n",
              "       [-0.4624161 , -0.9936044 ],\n",
              "       [-0.89607227, -0.5245354 ],\n",
              "       [-0.22681607, -1.594881  ],\n",
              "       [-0.15945855, -1.9146414 ],\n",
              "       [-0.18407889, -1.783019  ],\n",
              "       [-0.22948356, -1.5844724 ],\n",
              "       [-0.39147344, -1.127197  ],\n",
              "       [-0.47374868, -0.97461873],\n",
              "       [-0.6027123 , -0.79258114],\n",
              "       [-0.3140105 , -1.311229  ],\n",
              "       [-0.20478132, -1.6864568 ],\n",
              "       [-0.29690158, -1.3591352 ],\n",
              "       [-0.13391761, -2.076742  ],\n",
              "       [-0.21520445, -1.64184   ],\n",
              "       [-0.8806645 , -0.5353017 ],\n",
              "       [-0.2496831 , -1.5098082 ],\n",
              "       [-0.39670148, -1.1163733 ],\n",
              "       [-0.3417192 , -1.2397647 ],\n",
              "       [-0.1995693 , -1.7097194 ],\n",
              "       [-0.23848434, -1.5503252 ],\n",
              "       [-0.10672445, -2.290393  ],\n",
              "       [-0.26603663, -1.454192  ],\n",
              "       [-0.09608617, -2.390168  ],\n",
              "       [-1.0088844 , -0.45354086],\n",
              "       [-0.27295527, -1.4318228 ],\n",
              "       [-0.416143  , -1.0775926 ],\n",
              "       [-0.22069256, -1.6193023 ],\n",
              "       [-0.44548982, -1.0230701 ],\n",
              "       [-0.24498093, -1.5265658 ],\n",
              "       [-0.69483256, -0.69146454],\n",
              "       [-0.58142155, -0.81894404],\n",
              "       [-0.28606862, -1.3911505 ],\n",
              "       [-0.45410618, -1.0078998 ],\n",
              "       [-0.4564811 , -1.0037813 ],\n",
              "       [-0.29238322, -1.372322  ],\n",
              "       [-0.49876064, -0.9346658 ],\n",
              "       [-0.63240457, -0.7578194 ],\n",
              "       [-0.8743242 , -0.53981483],\n",
              "       [-0.8274954 , -0.57472944],\n",
              "       [-0.5273652 , -0.8919834 ],\n",
              "       [-0.19775043, -1.7179959 ],\n",
              "       [-0.38511068, -1.1406081 ],\n",
              "       [-1.0207767 , -0.44677922],\n",
              "       [-0.5330615 , -0.88383716],\n",
              "       [-0.65177065, -0.73631006],\n",
              "       [-0.33600506, -1.2539318 ],\n",
              "       [-0.4264706 , -1.0578803 ],\n",
              "       [-0.12756109, -2.122263  ],\n",
              "       [-0.2473756 , -1.5179869 ],\n",
              "       [-0.26815313, -1.4472797 ],\n",
              "       [-0.67625374, -0.71033084],\n",
              "       [-0.5390613 , -0.875378  ],\n",
              "       [-0.23315275, -1.5703739 ],\n",
              "       [-0.70919514, -0.6773528 ],\n",
              "       [-0.5458327 , -0.865976  ],\n",
              "       [-0.9024385 , -0.5201682 ],\n",
              "       [-0.65136814, -0.7367481 ],\n",
              "       [-0.17865516, -1.8102958 ],\n",
              "       [-0.34976715, -1.220279  ],\n",
              "       [-0.4325622 , -1.0465261 ],\n",
              "       [-0.17936023, -1.8066989 ],\n",
              "       [-0.42523172, -1.0602139 ],\n",
              "       [-0.88421637, -0.5327947 ],\n",
              "       [-0.3564093 , -1.204593  ],\n",
              "       [-0.4199296 , -1.0702963 ],\n",
              "       [-0.65696794, -0.73068464],\n",
              "       [-0.7401981 , -0.6482109 ],\n",
              "       [-0.25647098, -1.4862359 ],\n",
              "       [-0.95949227, -0.48302782],\n",
              "       [-0.30217925, -1.3440229 ],\n",
              "       [-0.16611855, -1.8769633 ],\n",
              "       [-0.8785062 , -0.5368326 ],\n",
              "       [-0.3099675 , -1.3222716 ],\n",
              "       [-0.49150252, -0.94599396],\n",
              "       [-0.4133541 , -1.0830185 ],\n",
              "       [-0.59687704, -0.79968214],\n",
              "       [-0.3675    , -1.1791608 ],\n",
              "       [-0.81954324, -0.58094925],\n",
              "       [-0.18806319, -1.7635355 ],\n",
              "       [-0.30010867, -1.3499149 ],\n",
              "       [-0.92093605, -0.5077407 ],\n",
              "       [-0.57003456, -0.833573  ],\n",
              "       [-0.2695809 , -1.4426508 ],\n",
              "       [-0.1772025 , -1.8177555 ],\n",
              "       [-0.43093202, -1.0495453 ],\n",
              "       [-0.376259  , -1.1597153 ],\n",
              "       [-0.56353426, -0.8420971 ],\n",
              "       [-0.6001608 , -0.7956749 ],\n",
              "       [-0.26169074, -1.4685855 ],\n",
              "       [-0.4666277 , -0.9864812 ],\n",
              "       [-0.20023783, -1.7066987 ],\n",
              "       [-0.5817215 , -0.8185638 ],\n",
              "       [-0.70265585, -0.6837281 ],\n",
              "       [-0.24291353, -1.5340492 ],\n",
              "       [-0.35454237, -1.2089665 ],\n",
              "       [-0.2572656 , -1.4835227 ],\n",
              "       [-0.15340988, -1.9503664 ],\n",
              "       [-0.19519092, -1.7297854 ],\n",
              "       [-0.22329327, -1.6088393 ],\n",
              "       [-0.19731082, -1.720009  ],\n",
              "       [-0.6378081 , -0.75172913],\n",
              "       [-1.2982178 , -0.3188535 ],\n",
              "       [-0.50268555, -0.9286264 ],\n",
              "       [-0.25377557, -1.4955108 ],\n",
              "       [-0.872943  , -0.5408045 ],\n",
              "       [-0.471528  , -0.9782939 ],\n",
              "       [-0.1532077 , -1.9515868 ],\n",
              "       [-0.68783784, -0.6984849 ],\n",
              "       [-0.41311887, -1.0834782 ],\n",
              "       [-0.10364334, -2.3181741 ],\n",
              "       [-0.39324844, -1.1235026 ],\n",
              "       [-0.92364347, -0.50595367],\n",
              "       [-0.71320015, -0.67348844],\n",
              "       [-0.28160015, -1.4047651 ],\n",
              "       [-0.2946144 , -1.3657812 ],\n",
              "       [-0.45744622, -1.0021152 ],\n",
              "       [-1.4732407 , -0.26030245],\n",
              "       [-0.23903209, -1.5482943 ],\n",
              "       [-0.15871266, -1.918967  ],\n",
              "       [-0.1829666 , -1.7885405 ],\n",
              "       [-1.0529611 , -0.42909673],\n",
              "       [-0.13689066, -2.0562375 ],\n",
              "       [-0.4255904 , -1.0595376 ],\n",
              "       [-0.7655057 , -0.625673  ],\n",
              "       [-0.42856437, -1.0539553 ],\n",
              "       [-0.91982704, -0.508475  ],\n",
              "       [-1.0521226 , -0.42954636],\n",
              "       [-1.096277  , -0.40663475],\n",
              "       [-1.4529088 , -0.26642814],\n",
              "       [-0.9618983 , -0.48153663],\n",
              "       [-1.1498275 , -0.38080877],\n",
              "       [-1.295116  , -0.32002085],\n",
              "       [-0.55404884, -0.85476893],\n",
              "       [-0.5459783 , -0.86577535],\n",
              "       [-1.2043983 , -0.3564926 ],\n",
              "       [-0.74946666, -0.63983124],\n",
              "       [-0.9097046 , -0.5152406 ],\n",
              "       [-0.7200187 , -0.6669789 ],\n",
              "       [-1.4095373 , -0.28005296],\n",
              "       [-0.6745398 , -0.7121074 ],\n",
              "       [-1.2104969 , -0.35389182],\n",
              "       [-0.20426102, -1.6887492 ],\n",
              "       [-1.1909279 , -0.3623182 ],\n",
              "       [-1.4570708 , -0.265161  ],\n",
              "       [-0.57651633, -0.8251992 ],\n",
              "       [-0.22928102, -1.5852581 ],\n",
              "       [-0.45136103, -1.0126939 ],\n",
              "       [-0.83019024, -0.57264143],\n",
              "       [-0.49762762, -0.9364204 ],\n",
              "       [-0.43465632, -1.0426681 ],\n",
              "       [-0.6294515 , -0.76117766]], dtype=float32)"
            ]
          },
          "execution_count": 64,
          "metadata": {},
          "output_type": "execute_result"
        }
      ],
      "source": [
        "preds"
      ]
    },
    {
      "cell_type": "code",
      "execution_count": 65,
      "metadata": {
        "colab": {
          "base_uri": "https://localhost:8080/"
        },
        "id": "sIA638lExRFw",
        "outputId": "6cb11792-ccd2-4c69-ca4c-1c5107b2bd9b",
        "vscode": {
          "languageId": "python"
        }
      },
      "outputs": [
        {
          "data": {
            "text/plain": [
              "array([0, 0, 0, 0, 0, 0, 1, 0, 0, 0, 0, 0, 0, 0, 0, 0, 0, 0, 0, 1, 0, 0,\n",
              "       0, 0, 0, 0, 0, 0, 0, 1, 0, 0, 0, 0, 0, 1, 1, 0, 0, 0, 0, 0, 0, 0,\n",
              "       0, 1, 0, 0, 0, 0, 0, 0, 0, 0, 0, 0, 0, 0, 1, 0, 0, 0, 0, 0, 0, 0,\n",
              "       0, 1, 0, 0, 0, 0, 0, 1, 0, 0, 0, 0, 0, 0, 0, 1, 1, 0, 0, 0, 1, 0,\n",
              "       0, 0, 0, 0, 0, 0, 0, 0, 0, 1, 0, 1, 0, 0, 0, 0, 0, 0, 1, 0, 0, 0,\n",
              "       1, 0, 1, 0, 0, 1, 0, 0, 0, 0, 0, 1, 0, 0, 1, 0, 0, 0, 0, 0, 0, 0,\n",
              "       0, 0, 0, 0, 1, 0, 0, 0, 0, 0, 0, 0, 0, 1, 0, 0, 1, 0, 0, 0, 0, 0,\n",
              "       0, 1, 1, 0, 0, 0, 1, 0, 0, 0, 1, 0, 0, 1, 0, 1, 1, 1, 1, 1, 1, 1,\n",
              "       0, 0, 1, 1, 1, 1, 1, 0, 1, 0, 1, 1, 0, 0, 0, 1, 0, 0, 0])"
            ]
          },
          "execution_count": 65,
          "metadata": {},
          "output_type": "execute_result"
        }
      ],
      "source": [
        "# preds\n",
        "prediction"
      ]
    },
    {
      "cell_type": "code",
      "execution_count": 67,
      "metadata": {
        "id": "YqzLS7rHTp4T",
        "vscode": {
          "languageId": "python"
        }
      },
      "outputs": [],
      "source": [
        "data = {'label': prediction,\n",
        "        'id': test[\"id\"]}\n",
        "\n",
        "df_out = pd.DataFrame(data)\n",
        "df_out.set_index('label', inplace=True)\n",
        "df_out.to_csv('final_bertweet_pre.csv')"
      ]
    },
    {
      "cell_type": "markdown",
      "metadata": {
        "id": "HMEMTgvNRCug"
      },
      "source": [
        "**References**"
      ]
    },
    {
      "cell_type": "markdown",
      "metadata": {
        "id": "54yzE0sURNKq"
      },
      "source": [
        "https://github.com/VinAIResearch/BERTweet "
      ]
    },
    {
      "cell_type": "markdown",
      "metadata": {
        "id": "5yFE2D_2RWg6"
      },
      "source": [
        "https://github.com/wutonytt/Fake-News-Detection/blob/main/Balanced_Data.ipynb "
      ]
    },
    {
      "cell_type": "markdown",
      "metadata": {
        "id": "fiSoRRQcRfnL"
      },
      "source": [
        "https://github.com/prathameshmahankal/Fake-News-Detection-Using-BERT/blob/main/notebooks/train.ipynb "
      ]
    },
    {
      "cell_type": "markdown",
      "metadata": {
        "id": "gJroNVHJSmTI"
      },
      "source": [
        "https://github.com/zhangyongheng78/COVID19-Fake-News-Detection-Using-BERT/blob/main/_Final_Submission_.ipynb"
      ]
    }
  ],
  "metadata": {
    "accelerator": "GPU",
    "colab": {
      "provenance": []
    },
    "gpuClass": "standard",
    "kernelspec": {
      "display_name": "Python 3",
      "name": "python3"
    },
    "widgets": {
      "application/vnd.jupyter.widget-state+json": {
        "0d8035d5f43f4a0eb8198eb6c166ad1e": {
          "model_module": "@jupyter-widgets/controls",
          "model_module_version": "1.5.0",
          "model_name": "HBoxModel",
          "state": {
            "_dom_classes": [],
            "_model_module": "@jupyter-widgets/controls",
            "_model_module_version": "1.5.0",
            "_model_name": "HBoxModel",
            "_view_count": null,
            "_view_module": "@jupyter-widgets/controls",
            "_view_module_version": "1.5.0",
            "_view_name": "HBoxView",
            "box_style": "",
            "children": [
              "IPY_MODEL_7656b5072ad8418fae35d4c861b2b494",
              "IPY_MODEL_bca43d17abfc424fa43f7ce5cd952e01",
              "IPY_MODEL_f6caa19d4c5b42dc9b81b28aa51ed3c5"
            ],
            "layout": "IPY_MODEL_7272c97e8ee84a1e954ded67528a8bc4"
          }
        },
        "1042210176f345168f94f1c590f1863b": {
          "model_module": "@jupyter-widgets/controls",
          "model_module_version": "1.5.0",
          "model_name": "HTMLModel",
          "state": {
            "_dom_classes": [],
            "_model_module": "@jupyter-widgets/controls",
            "_model_module_version": "1.5.0",
            "_model_name": "HTMLModel",
            "_view_count": null,
            "_view_module": "@jupyter-widgets/controls",
            "_view_module_version": "1.5.0",
            "_view_name": "HTMLView",
            "description": "",
            "description_tooltip": null,
            "layout": "IPY_MODEL_a992c11c7a214433ab41ac4febb495b3",
            "placeholder": "​",
            "style": "IPY_MODEL_1365c8ed671740759cee9ea5c81d5e70",
            "value": " 543M/543M [00:09&lt;00:00, 32.2MB/s]"
          }
        },
        "13285124c3b04cf2af5e18c7b810a5e9": {
          "model_module": "@jupyter-widgets/base",
          "model_module_version": "1.2.0",
          "model_name": "LayoutModel",
          "state": {
            "_model_module": "@jupyter-widgets/base",
            "_model_module_version": "1.2.0",
            "_model_name": "LayoutModel",
            "_view_count": null,
            "_view_module": "@jupyter-widgets/base",
            "_view_module_version": "1.2.0",
            "_view_name": "LayoutView",
            "align_content": null,
            "align_items": null,
            "align_self": null,
            "border": null,
            "bottom": null,
            "display": null,
            "flex": null,
            "flex_flow": null,
            "grid_area": null,
            "grid_auto_columns": null,
            "grid_auto_flow": null,
            "grid_auto_rows": null,
            "grid_column": null,
            "grid_gap": null,
            "grid_row": null,
            "grid_template_areas": null,
            "grid_template_columns": null,
            "grid_template_rows": null,
            "height": null,
            "justify_content": null,
            "justify_items": null,
            "left": null,
            "margin": null,
            "max_height": null,
            "max_width": null,
            "min_height": null,
            "min_width": null,
            "object_fit": null,
            "object_position": null,
            "order": null,
            "overflow": null,
            "overflow_x": null,
            "overflow_y": null,
            "padding": null,
            "right": null,
            "top": null,
            "visibility": null,
            "width": null
          }
        },
        "1365c8ed671740759cee9ea5c81d5e70": {
          "model_module": "@jupyter-widgets/controls",
          "model_module_version": "1.5.0",
          "model_name": "DescriptionStyleModel",
          "state": {
            "_model_module": "@jupyter-widgets/controls",
            "_model_module_version": "1.5.0",
            "_model_name": "DescriptionStyleModel",
            "_view_count": null,
            "_view_module": "@jupyter-widgets/base",
            "_view_module_version": "1.2.0",
            "_view_name": "StyleView",
            "description_width": ""
          }
        },
        "21f35f6ff07e4df5a2f40398575b869f": {
          "model_module": "@jupyter-widgets/controls",
          "model_module_version": "1.5.0",
          "model_name": "HTMLModel",
          "state": {
            "_dom_classes": [],
            "_model_module": "@jupyter-widgets/controls",
            "_model_module_version": "1.5.0",
            "_model_name": "HTMLModel",
            "_view_count": null,
            "_view_module": "@jupyter-widgets/controls",
            "_view_module_version": "1.5.0",
            "_view_name": "HTMLView",
            "description": "",
            "description_tooltip": null,
            "layout": "IPY_MODEL_5241d240fcc042ffb9051624850f3c5b",
            "placeholder": "​",
            "style": "IPY_MODEL_3f43adc6debc4d7d99db27bd53713c6b",
            "value": " 558/558 [00:00&lt;00:00, 18.1kB/s]"
          }
        },
        "25dfcc27c923441897a7969cf9df0927": {
          "model_module": "@jupyter-widgets/controls",
          "model_module_version": "1.5.0",
          "model_name": "HBoxModel",
          "state": {
            "_dom_classes": [],
            "_model_module": "@jupyter-widgets/controls",
            "_model_module_version": "1.5.0",
            "_model_name": "HBoxModel",
            "_view_count": null,
            "_view_module": "@jupyter-widgets/controls",
            "_view_module_version": "1.5.0",
            "_view_name": "HBoxView",
            "box_style": "",
            "children": [
              "IPY_MODEL_2ac416c91bb240e3b78f41586cf25815",
              "IPY_MODEL_7c27dba22cc149daaf4e8ee9fbc82891",
              "IPY_MODEL_1042210176f345168f94f1c590f1863b"
            ],
            "layout": "IPY_MODEL_6c53a4156f824d80a133af24f3252a28"
          }
        },
        "29bdd97f0a1944959782aed3331a7c32": {
          "model_module": "@jupyter-widgets/base",
          "model_module_version": "1.2.0",
          "model_name": "LayoutModel",
          "state": {
            "_model_module": "@jupyter-widgets/base",
            "_model_module_version": "1.2.0",
            "_model_name": "LayoutModel",
            "_view_count": null,
            "_view_module": "@jupyter-widgets/base",
            "_view_module_version": "1.2.0",
            "_view_name": "LayoutView",
            "align_content": null,
            "align_items": null,
            "align_self": null,
            "border": null,
            "bottom": null,
            "display": null,
            "flex": null,
            "flex_flow": null,
            "grid_area": null,
            "grid_auto_columns": null,
            "grid_auto_flow": null,
            "grid_auto_rows": null,
            "grid_column": null,
            "grid_gap": null,
            "grid_row": null,
            "grid_template_areas": null,
            "grid_template_columns": null,
            "grid_template_rows": null,
            "height": null,
            "justify_content": null,
            "justify_items": null,
            "left": null,
            "margin": null,
            "max_height": null,
            "max_width": null,
            "min_height": null,
            "min_width": null,
            "object_fit": null,
            "object_position": null,
            "order": null,
            "overflow": null,
            "overflow_x": null,
            "overflow_y": null,
            "padding": null,
            "right": null,
            "top": null,
            "visibility": null,
            "width": null
          }
        },
        "2ac416c91bb240e3b78f41586cf25815": {
          "model_module": "@jupyter-widgets/controls",
          "model_module_version": "1.5.0",
          "model_name": "HTMLModel",
          "state": {
            "_dom_classes": [],
            "_model_module": "@jupyter-widgets/controls",
            "_model_module_version": "1.5.0",
            "_model_name": "HTMLModel",
            "_view_count": null,
            "_view_module": "@jupyter-widgets/controls",
            "_view_module_version": "1.5.0",
            "_view_name": "HTMLView",
            "description": "",
            "description_tooltip": null,
            "layout": "IPY_MODEL_5565814035894378ab5c8fb265ddd39e",
            "placeholder": "​",
            "style": "IPY_MODEL_4c206a1d3431486e9c6863d4e75b9b8f",
            "value": "Downloading: 100%"
          }
        },
        "31f8456676fc48948739e3c7647aa3c3": {
          "model_module": "@jupyter-widgets/base",
          "model_module_version": "1.2.0",
          "model_name": "LayoutModel",
          "state": {
            "_model_module": "@jupyter-widgets/base",
            "_model_module_version": "1.2.0",
            "_model_name": "LayoutModel",
            "_view_count": null,
            "_view_module": "@jupyter-widgets/base",
            "_view_module_version": "1.2.0",
            "_view_name": "LayoutView",
            "align_content": null,
            "align_items": null,
            "align_self": null,
            "border": null,
            "bottom": null,
            "display": null,
            "flex": null,
            "flex_flow": null,
            "grid_area": null,
            "grid_auto_columns": null,
            "grid_auto_flow": null,
            "grid_auto_rows": null,
            "grid_column": null,
            "grid_gap": null,
            "grid_row": null,
            "grid_template_areas": null,
            "grid_template_columns": null,
            "grid_template_rows": null,
            "height": null,
            "justify_content": null,
            "justify_items": null,
            "left": null,
            "margin": null,
            "max_height": null,
            "max_width": null,
            "min_height": null,
            "min_width": null,
            "object_fit": null,
            "object_position": null,
            "order": null,
            "overflow": null,
            "overflow_x": null,
            "overflow_y": null,
            "padding": null,
            "right": null,
            "top": null,
            "visibility": null,
            "width": null
          }
        },
        "34818c604a2b4b18a34c3d0b47eea339": {
          "model_module": "@jupyter-widgets/controls",
          "model_module_version": "1.5.0",
          "model_name": "ProgressStyleModel",
          "state": {
            "_model_module": "@jupyter-widgets/controls",
            "_model_module_version": "1.5.0",
            "_model_name": "ProgressStyleModel",
            "_view_count": null,
            "_view_module": "@jupyter-widgets/base",
            "_view_module_version": "1.2.0",
            "_view_name": "StyleView",
            "bar_color": null,
            "description_width": ""
          }
        },
        "383ea9f98bbe4c2084d8c9b2f8bd26b2": {
          "model_module": "@jupyter-widgets/controls",
          "model_module_version": "1.5.0",
          "model_name": "ProgressStyleModel",
          "state": {
            "_model_module": "@jupyter-widgets/controls",
            "_model_module_version": "1.5.0",
            "_model_name": "ProgressStyleModel",
            "_view_count": null,
            "_view_module": "@jupyter-widgets/base",
            "_view_module_version": "1.2.0",
            "_view_name": "StyleView",
            "bar_color": null,
            "description_width": ""
          }
        },
        "3d968d3825df4ddf93b20d9828d1ace1": {
          "model_module": "@jupyter-widgets/controls",
          "model_module_version": "1.5.0",
          "model_name": "FloatProgressModel",
          "state": {
            "_dom_classes": [],
            "_model_module": "@jupyter-widgets/controls",
            "_model_module_version": "1.5.0",
            "_model_name": "FloatProgressModel",
            "_view_count": null,
            "_view_module": "@jupyter-widgets/controls",
            "_view_module_version": "1.5.0",
            "_view_name": "ProgressView",
            "bar_style": "success",
            "description": "",
            "description_tooltip": null,
            "layout": "IPY_MODEL_b7700ec0f9e94294b52475538f0f8c06",
            "max": 558,
            "min": 0,
            "orientation": "horizontal",
            "style": "IPY_MODEL_c17849e12e3a47daab4a92e97b7aa0a9",
            "value": 558
          }
        },
        "3f43adc6debc4d7d99db27bd53713c6b": {
          "model_module": "@jupyter-widgets/controls",
          "model_module_version": "1.5.0",
          "model_name": "DescriptionStyleModel",
          "state": {
            "_model_module": "@jupyter-widgets/controls",
            "_model_module_version": "1.5.0",
            "_model_name": "DescriptionStyleModel",
            "_view_count": null,
            "_view_module": "@jupyter-widgets/base",
            "_view_module_version": "1.2.0",
            "_view_name": "StyleView",
            "description_width": ""
          }
        },
        "450e0a5f1286446e9c27650ccbd4c577": {
          "model_module": "@jupyter-widgets/controls",
          "model_module_version": "1.5.0",
          "model_name": "HTMLModel",
          "state": {
            "_dom_classes": [],
            "_model_module": "@jupyter-widgets/controls",
            "_model_module_version": "1.5.0",
            "_model_name": "HTMLModel",
            "_view_count": null,
            "_view_module": "@jupyter-widgets/controls",
            "_view_module_version": "1.5.0",
            "_view_name": "HTMLView",
            "description": "",
            "description_tooltip": null,
            "layout": "IPY_MODEL_f1c1635bd7b44c61bf84aebbdd6b8f70",
            "placeholder": "​",
            "style": "IPY_MODEL_85f602ac845344a997defe84929c1fc2",
            "value": " 1.08M/1.08M [00:00&lt;00:00, 1.96MB/s]"
          }
        },
        "4608d9436fc344c9ac0cf878a66d4b6a": {
          "model_module": "@jupyter-widgets/controls",
          "model_module_version": "1.5.0",
          "model_name": "DescriptionStyleModel",
          "state": {
            "_model_module": "@jupyter-widgets/controls",
            "_model_module_version": "1.5.0",
            "_model_name": "DescriptionStyleModel",
            "_view_count": null,
            "_view_module": "@jupyter-widgets/base",
            "_view_module_version": "1.2.0",
            "_view_name": "StyleView",
            "description_width": ""
          }
        },
        "4887ceb77f6b4cd09d715c637f7073cd": {
          "model_module": "@jupyter-widgets/base",
          "model_module_version": "1.2.0",
          "model_name": "LayoutModel",
          "state": {
            "_model_module": "@jupyter-widgets/base",
            "_model_module_version": "1.2.0",
            "_model_name": "LayoutModel",
            "_view_count": null,
            "_view_module": "@jupyter-widgets/base",
            "_view_module_version": "1.2.0",
            "_view_name": "LayoutView",
            "align_content": null,
            "align_items": null,
            "align_self": null,
            "border": null,
            "bottom": null,
            "display": null,
            "flex": null,
            "flex_flow": null,
            "grid_area": null,
            "grid_auto_columns": null,
            "grid_auto_flow": null,
            "grid_auto_rows": null,
            "grid_column": null,
            "grid_gap": null,
            "grid_row": null,
            "grid_template_areas": null,
            "grid_template_columns": null,
            "grid_template_rows": null,
            "height": null,
            "justify_content": null,
            "justify_items": null,
            "left": null,
            "margin": null,
            "max_height": null,
            "max_width": null,
            "min_height": null,
            "min_width": null,
            "object_fit": null,
            "object_position": null,
            "order": null,
            "overflow": null,
            "overflow_x": null,
            "overflow_y": null,
            "padding": null,
            "right": null,
            "top": null,
            "visibility": null,
            "width": null
          }
        },
        "4ba75f7c626a46538227ae28dd6ac5ff": {
          "model_module": "@jupyter-widgets/base",
          "model_module_version": "1.2.0",
          "model_name": "LayoutModel",
          "state": {
            "_model_module": "@jupyter-widgets/base",
            "_model_module_version": "1.2.0",
            "_model_name": "LayoutModel",
            "_view_count": null,
            "_view_module": "@jupyter-widgets/base",
            "_view_module_version": "1.2.0",
            "_view_name": "LayoutView",
            "align_content": null,
            "align_items": null,
            "align_self": null,
            "border": null,
            "bottom": null,
            "display": null,
            "flex": null,
            "flex_flow": null,
            "grid_area": null,
            "grid_auto_columns": null,
            "grid_auto_flow": null,
            "grid_auto_rows": null,
            "grid_column": null,
            "grid_gap": null,
            "grid_row": null,
            "grid_template_areas": null,
            "grid_template_columns": null,
            "grid_template_rows": null,
            "height": null,
            "justify_content": null,
            "justify_items": null,
            "left": null,
            "margin": null,
            "max_height": null,
            "max_width": null,
            "min_height": null,
            "min_width": null,
            "object_fit": null,
            "object_position": null,
            "order": null,
            "overflow": null,
            "overflow_x": null,
            "overflow_y": null,
            "padding": null,
            "right": null,
            "top": null,
            "visibility": null,
            "width": null
          }
        },
        "4c206a1d3431486e9c6863d4e75b9b8f": {
          "model_module": "@jupyter-widgets/controls",
          "model_module_version": "1.5.0",
          "model_name": "DescriptionStyleModel",
          "state": {
            "_model_module": "@jupyter-widgets/controls",
            "_model_module_version": "1.5.0",
            "_model_name": "DescriptionStyleModel",
            "_view_count": null,
            "_view_module": "@jupyter-widgets/base",
            "_view_module_version": "1.2.0",
            "_view_name": "StyleView",
            "description_width": ""
          }
        },
        "5241d240fcc042ffb9051624850f3c5b": {
          "model_module": "@jupyter-widgets/base",
          "model_module_version": "1.2.0",
          "model_name": "LayoutModel",
          "state": {
            "_model_module": "@jupyter-widgets/base",
            "_model_module_version": "1.2.0",
            "_model_name": "LayoutModel",
            "_view_count": null,
            "_view_module": "@jupyter-widgets/base",
            "_view_module_version": "1.2.0",
            "_view_name": "LayoutView",
            "align_content": null,
            "align_items": null,
            "align_self": null,
            "border": null,
            "bottom": null,
            "display": null,
            "flex": null,
            "flex_flow": null,
            "grid_area": null,
            "grid_auto_columns": null,
            "grid_auto_flow": null,
            "grid_auto_rows": null,
            "grid_column": null,
            "grid_gap": null,
            "grid_row": null,
            "grid_template_areas": null,
            "grid_template_columns": null,
            "grid_template_rows": null,
            "height": null,
            "justify_content": null,
            "justify_items": null,
            "left": null,
            "margin": null,
            "max_height": null,
            "max_width": null,
            "min_height": null,
            "min_width": null,
            "object_fit": null,
            "object_position": null,
            "order": null,
            "overflow": null,
            "overflow_x": null,
            "overflow_y": null,
            "padding": null,
            "right": null,
            "top": null,
            "visibility": null,
            "width": null
          }
        },
        "5565814035894378ab5c8fb265ddd39e": {
          "model_module": "@jupyter-widgets/base",
          "model_module_version": "1.2.0",
          "model_name": "LayoutModel",
          "state": {
            "_model_module": "@jupyter-widgets/base",
            "_model_module_version": "1.2.0",
            "_model_name": "LayoutModel",
            "_view_count": null,
            "_view_module": "@jupyter-widgets/base",
            "_view_module_version": "1.2.0",
            "_view_name": "LayoutView",
            "align_content": null,
            "align_items": null,
            "align_self": null,
            "border": null,
            "bottom": null,
            "display": null,
            "flex": null,
            "flex_flow": null,
            "grid_area": null,
            "grid_auto_columns": null,
            "grid_auto_flow": null,
            "grid_auto_rows": null,
            "grid_column": null,
            "grid_gap": null,
            "grid_row": null,
            "grid_template_areas": null,
            "grid_template_columns": null,
            "grid_template_rows": null,
            "height": null,
            "justify_content": null,
            "justify_items": null,
            "left": null,
            "margin": null,
            "max_height": null,
            "max_width": null,
            "min_height": null,
            "min_width": null,
            "object_fit": null,
            "object_position": null,
            "order": null,
            "overflow": null,
            "overflow_x": null,
            "overflow_y": null,
            "padding": null,
            "right": null,
            "top": null,
            "visibility": null,
            "width": null
          }
        },
        "5f7e9d953bf546d8865af7b408634675": {
          "model_module": "@jupyter-widgets/controls",
          "model_module_version": "1.5.0",
          "model_name": "HBoxModel",
          "state": {
            "_dom_classes": [],
            "_model_module": "@jupyter-widgets/controls",
            "_model_module_version": "1.5.0",
            "_model_name": "HBoxModel",
            "_view_count": null,
            "_view_module": "@jupyter-widgets/controls",
            "_view_module_version": "1.5.0",
            "_view_name": "HBoxView",
            "box_style": "",
            "children": [
              "IPY_MODEL_6dfee91ff9bc40859d9c24eae5e88d4c",
              "IPY_MODEL_3d968d3825df4ddf93b20d9828d1ace1",
              "IPY_MODEL_21f35f6ff07e4df5a2f40398575b869f"
            ],
            "layout": "IPY_MODEL_ca0f1d700a4a430e8de58bc2d99d44ed"
          }
        },
        "6c53a4156f824d80a133af24f3252a28": {
          "model_module": "@jupyter-widgets/base",
          "model_module_version": "1.2.0",
          "model_name": "LayoutModel",
          "state": {
            "_model_module": "@jupyter-widgets/base",
            "_model_module_version": "1.2.0",
            "_model_name": "LayoutModel",
            "_view_count": null,
            "_view_module": "@jupyter-widgets/base",
            "_view_module_version": "1.2.0",
            "_view_name": "LayoutView",
            "align_content": null,
            "align_items": null,
            "align_self": null,
            "border": null,
            "bottom": null,
            "display": null,
            "flex": null,
            "flex_flow": null,
            "grid_area": null,
            "grid_auto_columns": null,
            "grid_auto_flow": null,
            "grid_auto_rows": null,
            "grid_column": null,
            "grid_gap": null,
            "grid_row": null,
            "grid_template_areas": null,
            "grid_template_columns": null,
            "grid_template_rows": null,
            "height": null,
            "justify_content": null,
            "justify_items": null,
            "left": null,
            "margin": null,
            "max_height": null,
            "max_width": null,
            "min_height": null,
            "min_width": null,
            "object_fit": null,
            "object_position": null,
            "order": null,
            "overflow": null,
            "overflow_x": null,
            "overflow_y": null,
            "padding": null,
            "right": null,
            "top": null,
            "visibility": null,
            "width": null
          }
        },
        "6dfee91ff9bc40859d9c24eae5e88d4c": {
          "model_module": "@jupyter-widgets/controls",
          "model_module_version": "1.5.0",
          "model_name": "HTMLModel",
          "state": {
            "_dom_classes": [],
            "_model_module": "@jupyter-widgets/controls",
            "_model_module_version": "1.5.0",
            "_model_name": "HTMLModel",
            "_view_count": null,
            "_view_module": "@jupyter-widgets/controls",
            "_view_module_version": "1.5.0",
            "_view_name": "HTMLView",
            "description": "",
            "description_tooltip": null,
            "layout": "IPY_MODEL_13285124c3b04cf2af5e18c7b810a5e9",
            "placeholder": "​",
            "style": "IPY_MODEL_f864e7fd20ea426881089b4daba41de6",
            "value": "Downloading: 100%"
          }
        },
        "7272c97e8ee84a1e954ded67528a8bc4": {
          "model_module": "@jupyter-widgets/base",
          "model_module_version": "1.2.0",
          "model_name": "LayoutModel",
          "state": {
            "_model_module": "@jupyter-widgets/base",
            "_model_module_version": "1.2.0",
            "_model_name": "LayoutModel",
            "_view_count": null,
            "_view_module": "@jupyter-widgets/base",
            "_view_module_version": "1.2.0",
            "_view_name": "LayoutView",
            "align_content": null,
            "align_items": null,
            "align_self": null,
            "border": null,
            "bottom": null,
            "display": null,
            "flex": null,
            "flex_flow": null,
            "grid_area": null,
            "grid_auto_columns": null,
            "grid_auto_flow": null,
            "grid_auto_rows": null,
            "grid_column": null,
            "grid_gap": null,
            "grid_row": null,
            "grid_template_areas": null,
            "grid_template_columns": null,
            "grid_template_rows": null,
            "height": null,
            "justify_content": null,
            "justify_items": null,
            "left": null,
            "margin": null,
            "max_height": null,
            "max_width": null,
            "min_height": null,
            "min_width": null,
            "object_fit": null,
            "object_position": null,
            "order": null,
            "overflow": null,
            "overflow_x": null,
            "overflow_y": null,
            "padding": null,
            "right": null,
            "top": null,
            "visibility": null,
            "width": null
          }
        },
        "7656b5072ad8418fae35d4c861b2b494": {
          "model_module": "@jupyter-widgets/controls",
          "model_module_version": "1.5.0",
          "model_name": "HTMLModel",
          "state": {
            "_dom_classes": [],
            "_model_module": "@jupyter-widgets/controls",
            "_model_module_version": "1.5.0",
            "_model_name": "HTMLModel",
            "_view_count": null,
            "_view_module": "@jupyter-widgets/controls",
            "_view_module_version": "1.5.0",
            "_view_name": "HTMLView",
            "description": "",
            "description_tooltip": null,
            "layout": "IPY_MODEL_dc5ff539fbfd4e7cbd68110a2764f6e7",
            "placeholder": "​",
            "style": "IPY_MODEL_4608d9436fc344c9ac0cf878a66d4b6a",
            "value": "Downloading: 100%"
          }
        },
        "77269e1032864252a8507f4977269fb8": {
          "model_module": "@jupyter-widgets/base",
          "model_module_version": "1.2.0",
          "model_name": "LayoutModel",
          "state": {
            "_model_module": "@jupyter-widgets/base",
            "_model_module_version": "1.2.0",
            "_model_name": "LayoutModel",
            "_view_count": null,
            "_view_module": "@jupyter-widgets/base",
            "_view_module_version": "1.2.0",
            "_view_name": "LayoutView",
            "align_content": null,
            "align_items": null,
            "align_self": null,
            "border": null,
            "bottom": null,
            "display": null,
            "flex": null,
            "flex_flow": null,
            "grid_area": null,
            "grid_auto_columns": null,
            "grid_auto_flow": null,
            "grid_auto_rows": null,
            "grid_column": null,
            "grid_gap": null,
            "grid_row": null,
            "grid_template_areas": null,
            "grid_template_columns": null,
            "grid_template_rows": null,
            "height": null,
            "justify_content": null,
            "justify_items": null,
            "left": null,
            "margin": null,
            "max_height": null,
            "max_width": null,
            "min_height": null,
            "min_width": null,
            "object_fit": null,
            "object_position": null,
            "order": null,
            "overflow": null,
            "overflow_x": null,
            "overflow_y": null,
            "padding": null,
            "right": null,
            "top": null,
            "visibility": null,
            "width": null
          }
        },
        "7c27dba22cc149daaf4e8ee9fbc82891": {
          "model_module": "@jupyter-widgets/controls",
          "model_module_version": "1.5.0",
          "model_name": "FloatProgressModel",
          "state": {
            "_dom_classes": [],
            "_model_module": "@jupyter-widgets/controls",
            "_model_module_version": "1.5.0",
            "_model_name": "FloatProgressModel",
            "_view_count": null,
            "_view_module": "@jupyter-widgets/controls",
            "_view_module_version": "1.5.0",
            "_view_name": "ProgressView",
            "bar_style": "success",
            "description": "",
            "description_tooltip": null,
            "layout": "IPY_MODEL_29bdd97f0a1944959782aed3331a7c32",
            "max": 542529062,
            "min": 0,
            "orientation": "horizontal",
            "style": "IPY_MODEL_34818c604a2b4b18a34c3d0b47eea339",
            "value": 542529062
          }
        },
        "85f602ac845344a997defe84929c1fc2": {
          "model_module": "@jupyter-widgets/controls",
          "model_module_version": "1.5.0",
          "model_name": "DescriptionStyleModel",
          "state": {
            "_model_module": "@jupyter-widgets/controls",
            "_model_module_version": "1.5.0",
            "_model_name": "DescriptionStyleModel",
            "_view_count": null,
            "_view_module": "@jupyter-widgets/base",
            "_view_module_version": "1.2.0",
            "_view_name": "StyleView",
            "description_width": ""
          }
        },
        "929e474782ec47bb888b4a56af16ea67": {
          "model_module": "@jupyter-widgets/controls",
          "model_module_version": "1.5.0",
          "model_name": "HBoxModel",
          "state": {
            "_dom_classes": [],
            "_model_module": "@jupyter-widgets/controls",
            "_model_module_version": "1.5.0",
            "_model_name": "HBoxModel",
            "_view_count": null,
            "_view_module": "@jupyter-widgets/controls",
            "_view_module_version": "1.5.0",
            "_view_name": "HBoxView",
            "box_style": "",
            "children": [
              "IPY_MODEL_d8da2d5f7d714b2ebcd0f31c72838bb3",
              "IPY_MODEL_b0c33106d8714fd6ba6bc4b571402cd1",
              "IPY_MODEL_450e0a5f1286446e9c27650ccbd4c577"
            ],
            "layout": "IPY_MODEL_c71f88b7c1284f27ac0bfc8be90bc422"
          }
        },
        "9523e299ee8544a288f1a68624f7244f": {
          "model_module": "@jupyter-widgets/controls",
          "model_module_version": "1.5.0",
          "model_name": "DescriptionStyleModel",
          "state": {
            "_model_module": "@jupyter-widgets/controls",
            "_model_module_version": "1.5.0",
            "_model_name": "DescriptionStyleModel",
            "_view_count": null,
            "_view_module": "@jupyter-widgets/base",
            "_view_module_version": "1.2.0",
            "_view_name": "StyleView",
            "description_width": ""
          }
        },
        "9ff5dc36fd0d44a5a7b1988af41d80ed": {
          "model_module": "@jupyter-widgets/controls",
          "model_module_version": "1.5.0",
          "model_name": "ProgressStyleModel",
          "state": {
            "_model_module": "@jupyter-widgets/controls",
            "_model_module_version": "1.5.0",
            "_model_name": "ProgressStyleModel",
            "_view_count": null,
            "_view_module": "@jupyter-widgets/base",
            "_view_module_version": "1.2.0",
            "_view_name": "StyleView",
            "bar_color": null,
            "description_width": ""
          }
        },
        "a992c11c7a214433ab41ac4febb495b3": {
          "model_module": "@jupyter-widgets/base",
          "model_module_version": "1.2.0",
          "model_name": "LayoutModel",
          "state": {
            "_model_module": "@jupyter-widgets/base",
            "_model_module_version": "1.2.0",
            "_model_name": "LayoutModel",
            "_view_count": null,
            "_view_module": "@jupyter-widgets/base",
            "_view_module_version": "1.2.0",
            "_view_name": "LayoutView",
            "align_content": null,
            "align_items": null,
            "align_self": null,
            "border": null,
            "bottom": null,
            "display": null,
            "flex": null,
            "flex_flow": null,
            "grid_area": null,
            "grid_auto_columns": null,
            "grid_auto_flow": null,
            "grid_auto_rows": null,
            "grid_column": null,
            "grid_gap": null,
            "grid_row": null,
            "grid_template_areas": null,
            "grid_template_columns": null,
            "grid_template_rows": null,
            "height": null,
            "justify_content": null,
            "justify_items": null,
            "left": null,
            "margin": null,
            "max_height": null,
            "max_width": null,
            "min_height": null,
            "min_width": null,
            "object_fit": null,
            "object_position": null,
            "order": null,
            "overflow": null,
            "overflow_x": null,
            "overflow_y": null,
            "padding": null,
            "right": null,
            "top": null,
            "visibility": null,
            "width": null
          }
        },
        "b0c33106d8714fd6ba6bc4b571402cd1": {
          "model_module": "@jupyter-widgets/controls",
          "model_module_version": "1.5.0",
          "model_name": "FloatProgressModel",
          "state": {
            "_dom_classes": [],
            "_model_module": "@jupyter-widgets/controls",
            "_model_module_version": "1.5.0",
            "_model_name": "FloatProgressModel",
            "_view_count": null,
            "_view_module": "@jupyter-widgets/controls",
            "_view_module_version": "1.5.0",
            "_view_name": "ProgressView",
            "bar_style": "success",
            "description": "",
            "description_tooltip": null,
            "layout": "IPY_MODEL_4ba75f7c626a46538227ae28dd6ac5ff",
            "max": 1078931,
            "min": 0,
            "orientation": "horizontal",
            "style": "IPY_MODEL_9ff5dc36fd0d44a5a7b1988af41d80ed",
            "value": 1078931
          }
        },
        "b7700ec0f9e94294b52475538f0f8c06": {
          "model_module": "@jupyter-widgets/base",
          "model_module_version": "1.2.0",
          "model_name": "LayoutModel",
          "state": {
            "_model_module": "@jupyter-widgets/base",
            "_model_module_version": "1.2.0",
            "_model_name": "LayoutModel",
            "_view_count": null,
            "_view_module": "@jupyter-widgets/base",
            "_view_module_version": "1.2.0",
            "_view_name": "LayoutView",
            "align_content": null,
            "align_items": null,
            "align_self": null,
            "border": null,
            "bottom": null,
            "display": null,
            "flex": null,
            "flex_flow": null,
            "grid_area": null,
            "grid_auto_columns": null,
            "grid_auto_flow": null,
            "grid_auto_rows": null,
            "grid_column": null,
            "grid_gap": null,
            "grid_row": null,
            "grid_template_areas": null,
            "grid_template_columns": null,
            "grid_template_rows": null,
            "height": null,
            "justify_content": null,
            "justify_items": null,
            "left": null,
            "margin": null,
            "max_height": null,
            "max_width": null,
            "min_height": null,
            "min_width": null,
            "object_fit": null,
            "object_position": null,
            "order": null,
            "overflow": null,
            "overflow_x": null,
            "overflow_y": null,
            "padding": null,
            "right": null,
            "top": null,
            "visibility": null,
            "width": null
          }
        },
        "bca43d17abfc424fa43f7ce5cd952e01": {
          "model_module": "@jupyter-widgets/controls",
          "model_module_version": "1.5.0",
          "model_name": "FloatProgressModel",
          "state": {
            "_dom_classes": [],
            "_model_module": "@jupyter-widgets/controls",
            "_model_module_version": "1.5.0",
            "_model_name": "FloatProgressModel",
            "_view_count": null,
            "_view_module": "@jupyter-widgets/controls",
            "_view_module_version": "1.5.0",
            "_view_name": "ProgressView",
            "bar_style": "success",
            "description": "",
            "description_tooltip": null,
            "layout": "IPY_MODEL_77269e1032864252a8507f4977269fb8",
            "max": 843438,
            "min": 0,
            "orientation": "horizontal",
            "style": "IPY_MODEL_383ea9f98bbe4c2084d8c9b2f8bd26b2",
            "value": 843438
          }
        },
        "c17849e12e3a47daab4a92e97b7aa0a9": {
          "model_module": "@jupyter-widgets/controls",
          "model_module_version": "1.5.0",
          "model_name": "ProgressStyleModel",
          "state": {
            "_model_module": "@jupyter-widgets/controls",
            "_model_module_version": "1.5.0",
            "_model_name": "ProgressStyleModel",
            "_view_count": null,
            "_view_module": "@jupyter-widgets/base",
            "_view_module_version": "1.2.0",
            "_view_name": "StyleView",
            "bar_color": null,
            "description_width": ""
          }
        },
        "c71f88b7c1284f27ac0bfc8be90bc422": {
          "model_module": "@jupyter-widgets/base",
          "model_module_version": "1.2.0",
          "model_name": "LayoutModel",
          "state": {
            "_model_module": "@jupyter-widgets/base",
            "_model_module_version": "1.2.0",
            "_model_name": "LayoutModel",
            "_view_count": null,
            "_view_module": "@jupyter-widgets/base",
            "_view_module_version": "1.2.0",
            "_view_name": "LayoutView",
            "align_content": null,
            "align_items": null,
            "align_self": null,
            "border": null,
            "bottom": null,
            "display": null,
            "flex": null,
            "flex_flow": null,
            "grid_area": null,
            "grid_auto_columns": null,
            "grid_auto_flow": null,
            "grid_auto_rows": null,
            "grid_column": null,
            "grid_gap": null,
            "grid_row": null,
            "grid_template_areas": null,
            "grid_template_columns": null,
            "grid_template_rows": null,
            "height": null,
            "justify_content": null,
            "justify_items": null,
            "left": null,
            "margin": null,
            "max_height": null,
            "max_width": null,
            "min_height": null,
            "min_width": null,
            "object_fit": null,
            "object_position": null,
            "order": null,
            "overflow": null,
            "overflow_x": null,
            "overflow_y": null,
            "padding": null,
            "right": null,
            "top": null,
            "visibility": null,
            "width": null
          }
        },
        "ca0f1d700a4a430e8de58bc2d99d44ed": {
          "model_module": "@jupyter-widgets/base",
          "model_module_version": "1.2.0",
          "model_name": "LayoutModel",
          "state": {
            "_model_module": "@jupyter-widgets/base",
            "_model_module_version": "1.2.0",
            "_model_name": "LayoutModel",
            "_view_count": null,
            "_view_module": "@jupyter-widgets/base",
            "_view_module_version": "1.2.0",
            "_view_name": "LayoutView",
            "align_content": null,
            "align_items": null,
            "align_self": null,
            "border": null,
            "bottom": null,
            "display": null,
            "flex": null,
            "flex_flow": null,
            "grid_area": null,
            "grid_auto_columns": null,
            "grid_auto_flow": null,
            "grid_auto_rows": null,
            "grid_column": null,
            "grid_gap": null,
            "grid_row": null,
            "grid_template_areas": null,
            "grid_template_columns": null,
            "grid_template_rows": null,
            "height": null,
            "justify_content": null,
            "justify_items": null,
            "left": null,
            "margin": null,
            "max_height": null,
            "max_width": null,
            "min_height": null,
            "min_width": null,
            "object_fit": null,
            "object_position": null,
            "order": null,
            "overflow": null,
            "overflow_x": null,
            "overflow_y": null,
            "padding": null,
            "right": null,
            "top": null,
            "visibility": null,
            "width": null
          }
        },
        "ce2292ce20914fca8feaf5f0a49e547c": {
          "model_module": "@jupyter-widgets/controls",
          "model_module_version": "1.5.0",
          "model_name": "DescriptionStyleModel",
          "state": {
            "_model_module": "@jupyter-widgets/controls",
            "_model_module_version": "1.5.0",
            "_model_name": "DescriptionStyleModel",
            "_view_count": null,
            "_view_module": "@jupyter-widgets/base",
            "_view_module_version": "1.2.0",
            "_view_name": "StyleView",
            "description_width": ""
          }
        },
        "d8da2d5f7d714b2ebcd0f31c72838bb3": {
          "model_module": "@jupyter-widgets/controls",
          "model_module_version": "1.5.0",
          "model_name": "HTMLModel",
          "state": {
            "_dom_classes": [],
            "_model_module": "@jupyter-widgets/controls",
            "_model_module_version": "1.5.0",
            "_model_name": "HTMLModel",
            "_view_count": null,
            "_view_module": "@jupyter-widgets/controls",
            "_view_module_version": "1.5.0",
            "_view_name": "HTMLView",
            "description": "",
            "description_tooltip": null,
            "layout": "IPY_MODEL_31f8456676fc48948739e3c7647aa3c3",
            "placeholder": "​",
            "style": "IPY_MODEL_9523e299ee8544a288f1a68624f7244f",
            "value": "Downloading: 100%"
          }
        },
        "dc5ff539fbfd4e7cbd68110a2764f6e7": {
          "model_module": "@jupyter-widgets/base",
          "model_module_version": "1.2.0",
          "model_name": "LayoutModel",
          "state": {
            "_model_module": "@jupyter-widgets/base",
            "_model_module_version": "1.2.0",
            "_model_name": "LayoutModel",
            "_view_count": null,
            "_view_module": "@jupyter-widgets/base",
            "_view_module_version": "1.2.0",
            "_view_name": "LayoutView",
            "align_content": null,
            "align_items": null,
            "align_self": null,
            "border": null,
            "bottom": null,
            "display": null,
            "flex": null,
            "flex_flow": null,
            "grid_area": null,
            "grid_auto_columns": null,
            "grid_auto_flow": null,
            "grid_auto_rows": null,
            "grid_column": null,
            "grid_gap": null,
            "grid_row": null,
            "grid_template_areas": null,
            "grid_template_columns": null,
            "grid_template_rows": null,
            "height": null,
            "justify_content": null,
            "justify_items": null,
            "left": null,
            "margin": null,
            "max_height": null,
            "max_width": null,
            "min_height": null,
            "min_width": null,
            "object_fit": null,
            "object_position": null,
            "order": null,
            "overflow": null,
            "overflow_x": null,
            "overflow_y": null,
            "padding": null,
            "right": null,
            "top": null,
            "visibility": null,
            "width": null
          }
        },
        "f1c1635bd7b44c61bf84aebbdd6b8f70": {
          "model_module": "@jupyter-widgets/base",
          "model_module_version": "1.2.0",
          "model_name": "LayoutModel",
          "state": {
            "_model_module": "@jupyter-widgets/base",
            "_model_module_version": "1.2.0",
            "_model_name": "LayoutModel",
            "_view_count": null,
            "_view_module": "@jupyter-widgets/base",
            "_view_module_version": "1.2.0",
            "_view_name": "LayoutView",
            "align_content": null,
            "align_items": null,
            "align_self": null,
            "border": null,
            "bottom": null,
            "display": null,
            "flex": null,
            "flex_flow": null,
            "grid_area": null,
            "grid_auto_columns": null,
            "grid_auto_flow": null,
            "grid_auto_rows": null,
            "grid_column": null,
            "grid_gap": null,
            "grid_row": null,
            "grid_template_areas": null,
            "grid_template_columns": null,
            "grid_template_rows": null,
            "height": null,
            "justify_content": null,
            "justify_items": null,
            "left": null,
            "margin": null,
            "max_height": null,
            "max_width": null,
            "min_height": null,
            "min_width": null,
            "object_fit": null,
            "object_position": null,
            "order": null,
            "overflow": null,
            "overflow_x": null,
            "overflow_y": null,
            "padding": null,
            "right": null,
            "top": null,
            "visibility": null,
            "width": null
          }
        },
        "f6caa19d4c5b42dc9b81b28aa51ed3c5": {
          "model_module": "@jupyter-widgets/controls",
          "model_module_version": "1.5.0",
          "model_name": "HTMLModel",
          "state": {
            "_dom_classes": [],
            "_model_module": "@jupyter-widgets/controls",
            "_model_module_version": "1.5.0",
            "_model_name": "HTMLModel",
            "_view_count": null,
            "_view_module": "@jupyter-widgets/controls",
            "_view_module_version": "1.5.0",
            "_view_name": "HTMLView",
            "description": "",
            "description_tooltip": null,
            "layout": "IPY_MODEL_4887ceb77f6b4cd09d715c637f7073cd",
            "placeholder": "​",
            "style": "IPY_MODEL_ce2292ce20914fca8feaf5f0a49e547c",
            "value": " 843k/843k [00:00&lt;00:00, 1.35MB/s]"
          }
        },
        "f864e7fd20ea426881089b4daba41de6": {
          "model_module": "@jupyter-widgets/controls",
          "model_module_version": "1.5.0",
          "model_name": "DescriptionStyleModel",
          "state": {
            "_model_module": "@jupyter-widgets/controls",
            "_model_module_version": "1.5.0",
            "_model_name": "DescriptionStyleModel",
            "_view_count": null,
            "_view_module": "@jupyter-widgets/base",
            "_view_module_version": "1.2.0",
            "_view_name": "StyleView",
            "description_width": ""
          }
        }
      }
    }
  },
  "nbformat": 4,
  "nbformat_minor": 0
}
